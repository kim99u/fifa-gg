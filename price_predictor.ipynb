{
 "cells": [
  {
   "cell_type": "code",
   "execution_count": 61,
   "metadata": {},
   "outputs": [],
   "source": [
    "import pandas as pd\n",
    "import numpy as np\n",
    "\n",
    "from tqdm.auto import tqdm\n",
    "\n",
    "# Visulization\n",
    "import matplotlib.pyplot as plt\n",
    "import seaborn as sns\n",
    "\n",
    "# Preprocessing\n",
    "from sklearn.model_selection import train_test_split\n",
    "from sklearn.preprocessing import OneHotEncoder\n",
    "\n",
    "from scipy.spatial.distance import mahalanobis\n",
    "\n",
    "# Scaler\n",
    "from sklearn.preprocessing import MinMaxScaler, StandardScaler\n",
    "\n",
    "# Model\n",
    "from sklearn.linear_model import LinearRegression, Ridge, Lasso\n",
    "from sklearn.ensemble import RandomForestRegressor\n",
    "\n",
    "# Metric\n",
    "from sklearn.metrics import mean_absolute_error\n",
    "\n",
    "import warnings\n",
    "warnings.simplefilter(action='ignore')"
   ]
  },
  {
   "cell_type": "markdown",
   "metadata": {},
   "source": [
    "## 1. 데이터 불러오기"
   ]
  },
  {
   "cell_type": "markdown",
   "metadata": {},
   "source": [
    "### A. Train"
   ]
  },
  {
   "cell_type": "code",
   "execution_count": 2,
   "metadata": {
    "tags": []
   },
   "outputs": [],
   "source": [
    "train_df = pd.read_csv('./data/train.csv')"
   ]
  },
  {
   "cell_type": "code",
   "execution_count": 3,
   "metadata": {
    "collapsed": true,
    "jupyter": {
     "outputs_hidden": true
    },
    "tags": []
   },
   "outputs": [
    {
     "data": {
      "text/html": [
       "<div><div id=c1479861-f545-48eb-a4bd-ac3b36e6870a style=\"display:none; background-color:#9D6CFF; color:white; width:200px; height:30px; padding-left:5px; border-radius:4px; flex-direction:row; justify-content:space-around; align-items:center;\" onmouseover=\"this.style.backgroundColor='#BA9BF8'\" onmouseout=\"this.style.backgroundColor='#9D6CFF'\" onclick=\"window.commands?.execute('create-mitosheet-from-dataframe-output');\">See Full Dataframe in Mito</div> <script> if (window.commands?.hasCommand('create-mitosheet-from-dataframe-output')) document.getElementById('c1479861-f545-48eb-a4bd-ac3b36e6870a').style.display = 'flex' </script> <table border=\"1\" class=\"dataframe\">\n",
       "  <thead>\n",
       "    <tr style=\"text-align: right;\">\n",
       "      <th></th>\n",
       "      <th>id</th>\n",
       "      <th>name</th>\n",
       "      <th>class</th>\n",
       "      <th>pay</th>\n",
       "      <th>overall</th>\n",
       "      <th>position</th>\n",
       "      <th>age</th>\n",
       "      <th>height</th>\n",
       "      <th>weight</th>\n",
       "      <th>bodytype</th>\n",
       "      <th>...</th>\n",
       "      <th>gk_diving</th>\n",
       "      <th>gk_handle</th>\n",
       "      <th>gk_kick</th>\n",
       "      <th>gk_reflex</th>\n",
       "      <th>gk_positioning</th>\n",
       "      <th>teamcolor</th>\n",
       "      <th>clubname</th>\n",
       "      <th>clubimg</th>\n",
       "      <th>mugshot</th>\n",
       "      <th>price</th>\n",
       "    </tr>\n",
       "  </thead>\n",
       "  <tbody>\n",
       "    <tr>\n",
       "      <th>0</th>\n",
       "      <td>100000250</td>\n",
       "      <td>데이비드 베컴</td>\n",
       "      <td>ICONTM</td>\n",
       "      <td>31</td>\n",
       "      <td>122</td>\n",
       "      <td>RM</td>\n",
       "      <td>1975.05.02 (49세)</td>\n",
       "      <td>182</td>\n",
       "      <td>74</td>\n",
       "      <td>보통</td>\n",
       "      <td>...</td>\n",
       "      <td>35</td>\n",
       "      <td>37</td>\n",
       "      <td>38</td>\n",
       "      <td>36</td>\n",
       "      <td>37</td>\n",
       "      <td>파리 생제르맹, AC 밀란, AC 밀란, LA 갤럭시, 레알 마드리드, 프레스턴 노스 엔드, 맨체스터 유나이티드</td>\n",
       "      <td>NaN</td>\n",
       "      <td>NaN</td>\n",
       "      <td>https://fo4.dn.nexoncdn.co.kr/live/externalAssets/common/playersAction/p100000250.png</td>\n",
       "      <td>1390000000000</td>\n",
       "    </tr>\n",
       "    <tr>\n",
       "      <th>1</th>\n",
       "      <td>100001114</td>\n",
       "      <td>로베르토 바조</td>\n",
       "      <td>ICONTM</td>\n",
       "      <td>32</td>\n",
       "      <td>123</td>\n",
       "      <td>CF</td>\n",
       "      <td>1967.02.18 (57세)</td>\n",
       "      <td>174</td>\n",
       "      <td>73</td>\n",
       "      <td>보통(고유)</td>\n",
       "      <td>...</td>\n",
       "      <td>34</td>\n",
       "      <td>34</td>\n",
       "      <td>37</td>\n",
       "      <td>37</td>\n",
       "      <td>36</td>\n",
       "      <td>브레시아, 인테르, 볼로냐, AC 밀란, 유벤투스, 피오렌티나, 비첸자</td>\n",
       "      <td>NaN</td>\n",
       "      <td>NaN</td>\n",
       "      <td>https://fo4.dn.nexoncdn.co.kr/live/externalAssets/common/playersAction/p100001114.png</td>\n",
       "      <td>1180000000000</td>\n",
       "    </tr>\n",
       "    <tr>\n",
       "      <th>2</th>\n",
       "      <td>100001256</td>\n",
       "      <td>클라렌스 세이도르프</td>\n",
       "      <td>ICONTM</td>\n",
       "      <td>30</td>\n",
       "      <td>120</td>\n",
       "      <td>CAM</td>\n",
       "      <td>1976.04.01 (48세)</td>\n",
       "      <td>176</td>\n",
       "      <td>78</td>\n",
       "      <td>건장</td>\n",
       "      <td>...</td>\n",
       "      <td>34</td>\n",
       "      <td>35</td>\n",
       "      <td>34</td>\n",
       "      <td>34</td>\n",
       "      <td>35</td>\n",
       "      <td>보타포구, AC 밀란, 인테르, 레알 마드리드, 삼프도리아, 아약스</td>\n",
       "      <td>NaN</td>\n",
       "      <td>NaN</td>\n",
       "      <td>https://fo4.dn.nexoncdn.co.kr/live/externalAssets/common/playersAction/p100001256.png</td>\n",
       "      <td>288000000000</td>\n",
       "    </tr>\n",
       "    <tr>\n",
       "      <th>3</th>\n",
       "      <td>100001625</td>\n",
       "      <td>티에리 앙리</td>\n",
       "      <td>ICONTM</td>\n",
       "      <td>31</td>\n",
       "      <td>122</td>\n",
       "      <td>ST</td>\n",
       "      <td>1977.08.17 (47세)</td>\n",
       "      <td>188</td>\n",
       "      <td>83</td>\n",
       "      <td>마름</td>\n",
       "      <td>...</td>\n",
       "      <td>35</td>\n",
       "      <td>37</td>\n",
       "      <td>34</td>\n",
       "      <td>37</td>\n",
       "      <td>35</td>\n",
       "      <td>아스널, 뉴욕 레드불스, FC 바르셀로나, 아스널, 유벤투스, AS 모나코</td>\n",
       "      <td>NaN</td>\n",
       "      <td>NaN</td>\n",
       "      <td>https://fo4.dn.nexoncdn.co.kr/live/externalAssets/common/playersAction/p100001625.png</td>\n",
       "      <td>2260000000000</td>\n",
       "    </tr>\n",
       "    <tr>\n",
       "      <th>4</th>\n",
       "      <td>100001668</td>\n",
       "      <td>클로드 마켈렐레</td>\n",
       "      <td>ICONTM</td>\n",
       "      <td>29</td>\n",
       "      <td>120</td>\n",
       "      <td>CDM</td>\n",
       "      <td>1973.02.18 (51세)</td>\n",
       "      <td>174</td>\n",
       "      <td>70</td>\n",
       "      <td>보통</td>\n",
       "      <td>...</td>\n",
       "      <td>36</td>\n",
       "      <td>34</td>\n",
       "      <td>36</td>\n",
       "      <td>34</td>\n",
       "      <td>37</td>\n",
       "      <td>파리 생제르맹, 첼시, 레알 마드리드, 셀타 비고, 올랭피크 마르세유, FC 낭트, 스타드 브레스트 29</td>\n",
       "      <td>NaN</td>\n",
       "      <td>NaN</td>\n",
       "      <td>https://fo4.dn.nexoncdn.co.kr/live/externalAssets/common/playersAction/p100001668.png</td>\n",
       "      <td>307000000000</td>\n",
       "    </tr>\n",
       "    <tr>\n",
       "      <th>...</th>\n",
       "      <td>...</td>\n",
       "      <td>...</td>\n",
       "      <td>...</td>\n",
       "      <td>...</td>\n",
       "      <td>...</td>\n",
       "      <td>...</td>\n",
       "      <td>...</td>\n",
       "      <td>...</td>\n",
       "      <td>...</td>\n",
       "      <td>...</td>\n",
       "      <td>...</td>\n",
       "      <td>...</td>\n",
       "      <td>...</td>\n",
       "      <td>...</td>\n",
       "      <td>...</td>\n",
       "      <td>...</td>\n",
       "      <td>...</td>\n",
       "      <td>...</td>\n",
       "      <td>...</td>\n",
       "      <td>...</td>\n",
       "      <td>...</td>\n",
       "    </tr>\n",
       "    <tr>\n",
       "      <th>62381</th>\n",
       "      <td>512268313</td>\n",
       "      <td>제카</td>\n",
       "      <td>23KL</td>\n",
       "      <td>13</td>\n",
       "      <td>85</td>\n",
       "      <td>ST</td>\n",
       "      <td>1997.03.10 (27세)</td>\n",
       "      <td>190</td>\n",
       "      <td>84</td>\n",
       "      <td>보통</td>\n",
       "      <td>...</td>\n",
       "      <td>35</td>\n",
       "      <td>30</td>\n",
       "      <td>29</td>\n",
       "      <td>32</td>\n",
       "      <td>36</td>\n",
       "      <td>포항 스틸러스, 미라쏠, 대구 FC, 론드리나, 오에스치, 크리시우마, 고이아스, 보아비스타, 바이아, 이피랑가 - BA</td>\n",
       "      <td>포항 스틸러스</td>\n",
       "      <td>https://fo4.dn.nexoncdn.co.kr/live/externalAssets/common/crests/light/small/l1474.png</td>\n",
       "      <td>https://fo4.dn.nexoncdn.co.kr/live/externalAssets/common/playersAction/p512268313.png</td>\n",
       "      <td>5530000</td>\n",
       "    </tr>\n",
       "    <tr>\n",
       "      <th>62382</th>\n",
       "      <td>512269093</td>\n",
       "      <td>김진호</td>\n",
       "      <td>23KL</td>\n",
       "      <td>7</td>\n",
       "      <td>72</td>\n",
       "      <td>RWB</td>\n",
       "      <td>2000.01.21 (24세)</td>\n",
       "      <td>178</td>\n",
       "      <td>74</td>\n",
       "      <td>보통</td>\n",
       "      <td>...</td>\n",
       "      <td>30</td>\n",
       "      <td>30</td>\n",
       "      <td>31</td>\n",
       "      <td>34</td>\n",
       "      <td>29</td>\n",
       "      <td>강원 FC</td>\n",
       "      <td>강원 FC</td>\n",
       "      <td>https://fo4.dn.nexoncdn.co.kr/live/externalAssets/common/crests/light/small/l112115.png</td>\n",
       "      <td>https://fo4.dn.nexoncdn.co.kr/live/externalAssets/common/players/p269093.png</td>\n",
       "      <td>1150</td>\n",
       "    </tr>\n",
       "    <tr>\n",
       "      <th>62383</th>\n",
       "      <td>512272733</td>\n",
       "      <td>오베르당</td>\n",
       "      <td>23KL</td>\n",
       "      <td>13</td>\n",
       "      <td>82</td>\n",
       "      <td>CM</td>\n",
       "      <td>1995.07.30 (29세)</td>\n",
       "      <td>175</td>\n",
       "      <td>69</td>\n",
       "      <td>보통</td>\n",
       "      <td>...</td>\n",
       "      <td>31</td>\n",
       "      <td>31</td>\n",
       "      <td>32</td>\n",
       "      <td>32</td>\n",
       "      <td>29</td>\n",
       "      <td>포항 스틸러스, 피게이렌세, 피게이렌세, 플루미넨세, FC 카스카벨, 리우 브랑코</td>\n",
       "      <td>포항 스틸러스</td>\n",
       "      <td>https://fo4.dn.nexoncdn.co.kr/live/externalAssets/common/crests/light/small/l1474.png</td>\n",
       "      <td>https://fo4.dn.nexoncdn.co.kr/live/externalAssets/common/playersAction/p512272733.png</td>\n",
       "      <td>3280000</td>\n",
       "    </tr>\n",
       "    <tr>\n",
       "      <th>62384</th>\n",
       "      <td>512272870</td>\n",
       "      <td>루카스 바르셀루스</td>\n",
       "      <td>23KL</td>\n",
       "      <td>10</td>\n",
       "      <td>80</td>\n",
       "      <td>ST</td>\n",
       "      <td>1998.07.19 (26세)</td>\n",
       "      <td>182</td>\n",
       "      <td>82</td>\n",
       "      <td>보통</td>\n",
       "      <td>...</td>\n",
       "      <td>31</td>\n",
       "      <td>36</td>\n",
       "      <td>33</td>\n",
       "      <td>33</td>\n",
       "      <td>31</td>\n",
       "      <td>대구 FC, CSA - AL, 아소시아상 데스포르치바 콘피안사, 플루미넨세, 피게이렌세</td>\n",
       "      <td>대구 FC</td>\n",
       "      <td>https://fo4.dn.nexoncdn.co.kr/live/externalAssets/common/crests/light/small/l2056.png</td>\n",
       "      <td>https://fo4.dn.nexoncdn.co.kr/live/externalAssets/common/playersAction/p512272870.png</td>\n",
       "      <td>77100</td>\n",
       "    </tr>\n",
       "    <tr>\n",
       "      <th>62385</th>\n",
       "      <td>512273460</td>\n",
       "      <td>호드리구 바사니</td>\n",
       "      <td>23KL</td>\n",
       "      <td>13</td>\n",
       "      <td>83</td>\n",
       "      <td>CAM</td>\n",
       "      <td>1997.10.17 (27세)</td>\n",
       "      <td>177</td>\n",
       "      <td>73</td>\n",
       "      <td>보통</td>\n",
       "      <td>...</td>\n",
       "      <td>29</td>\n",
       "      <td>30</td>\n",
       "      <td>31</td>\n",
       "      <td>28</td>\n",
       "      <td>31</td>\n",
       "      <td>수원 삼성 블루윙즈, 피게이렌세, 주벤투지, 피게이렌세, 피게이렌세, 마링가 풋볼 클루베, 우니앙 수자노, CA 사카테페크, 아틀레티코 사카테펙, 루셀라러, 과라니, 이투아누</td>\n",
       "      <td>수원 삼성 블루윙즈</td>\n",
       "      <td>https://fo4.dn.nexoncdn.co.kr/live/externalAssets/common/crests/light/small/l983.png</td>\n",
       "      <td>https://fo4.dn.nexoncdn.co.kr/live/externalAssets/common/playersAction/p512273460.png</td>\n",
       "      <td>5620000</td>\n",
       "    </tr>\n",
       "  </tbody>\n",
       "</table></div>"
      ],
      "text/plain": [
       "              id        name   class  pay  overall position               age  \\\n",
       "0      100000250     데이비드 베컴  ICONTM   31      122       RM  1975.05.02 (49세)   \n",
       "1      100001114     로베르토 바조  ICONTM   32      123       CF  1967.02.18 (57세)   \n",
       "2      100001256  클라렌스 세이도르프  ICONTM   30      120      CAM  1976.04.01 (48세)   \n",
       "3      100001625      티에리 앙리  ICONTM   31      122       ST  1977.08.17 (47세)   \n",
       "4      100001668    클로드 마켈렐레  ICONTM   29      120      CDM  1973.02.18 (51세)   \n",
       "...          ...         ...     ...  ...      ...      ...               ...   \n",
       "62381  512268313          제카    23KL   13       85       ST  1997.03.10 (27세)   \n",
       "62382  512269093         김진호    23KL    7       72      RWB  2000.01.21 (24세)   \n",
       "62383  512272733        오베르당    23KL   13       82       CM  1995.07.30 (29세)   \n",
       "62384  512272870   루카스 바르셀루스    23KL   10       80       ST  1998.07.19 (26세)   \n",
       "62385  512273460    호드리구 바사니    23KL   13       83      CAM  1997.10.17 (27세)   \n",
       "\n",
       "       height  weight bodytype  ...  gk_diving  gk_handle  gk_kick gk_reflex  \\\n",
       "0         182      74       보통  ...         35         37       38        36   \n",
       "1         174      73   보통(고유)  ...         34         34       37        37   \n",
       "2         176      78       건장  ...         34         35       34        34   \n",
       "3         188      83       마름  ...         35         37       34        37   \n",
       "4         174      70       보통  ...         36         34       36        34   \n",
       "...       ...     ...      ...  ...        ...        ...      ...       ...   \n",
       "62381     190      84       보통  ...         35         30       29        32   \n",
       "62382     178      74       보통  ...         30         30       31        34   \n",
       "62383     175      69       보통  ...         31         31       32        32   \n",
       "62384     182      82       보통  ...         31         36       33        33   \n",
       "62385     177      73       보통  ...         29         30       31        28   \n",
       "\n",
       "      gk_positioning                                          teamcolor  \\\n",
       "0                 37  파리 생제르맹, AC 밀란, AC 밀란, LA 갤럭시, 레알 마드리드, 프레스턴 노...   \n",
       "1                 36            브레시아, 인테르, 볼로냐, AC 밀란, 유벤투스, 피오렌티나, 비첸자   \n",
       "2                 35              보타포구, AC 밀란, 인테르, 레알 마드리드, 삼프도리아, 아약스   \n",
       "3                 35          아스널, 뉴욕 레드불스, FC 바르셀로나, 아스널, 유벤투스, AS 모나코   \n",
       "4                 37  파리 생제르맹, 첼시, 레알 마드리드, 셀타 비고, 올랭피크 마르세유, FC 낭트,...   \n",
       "...              ...                                                ...   \n",
       "62381             36  포항 스틸러스, 미라쏠, 대구 FC, 론드리나, 오에스치, 크리시우마, 고이아스, ...   \n",
       "62382             29                                              강원 FC   \n",
       "62383             29      포항 스틸러스, 피게이렌세, 피게이렌세, 플루미넨세, FC 카스카벨, 리우 브랑코   \n",
       "62384             31   대구 FC, CSA - AL, 아소시아상 데스포르치바 콘피안사, 플루미넨세, 피게이렌세   \n",
       "62385             31  수원 삼성 블루윙즈, 피게이렌세, 주벤투지, 피게이렌세, 피게이렌세, 마링가 풋볼 ...   \n",
       "\n",
       "         clubname                                            clubimg  \\\n",
       "0             NaN                                                NaN   \n",
       "1             NaN                                                NaN   \n",
       "2             NaN                                                NaN   \n",
       "3             NaN                                                NaN   \n",
       "4             NaN                                                NaN   \n",
       "...           ...                                                ...   \n",
       "62381     포항 스틸러스  https://fo4.dn.nexoncdn.co.kr/live/externalAss...   \n",
       "62382       강원 FC  https://fo4.dn.nexoncdn.co.kr/live/externalAss...   \n",
       "62383     포항 스틸러스  https://fo4.dn.nexoncdn.co.kr/live/externalAss...   \n",
       "62384       대구 FC  https://fo4.dn.nexoncdn.co.kr/live/externalAss...   \n",
       "62385  수원 삼성 블루윙즈  https://fo4.dn.nexoncdn.co.kr/live/externalAss...   \n",
       "\n",
       "                                                 mugshot          price  \n",
       "0      https://fo4.dn.nexoncdn.co.kr/live/externalAss...  1390000000000  \n",
       "1      https://fo4.dn.nexoncdn.co.kr/live/externalAss...  1180000000000  \n",
       "2      https://fo4.dn.nexoncdn.co.kr/live/externalAss...   288000000000  \n",
       "3      https://fo4.dn.nexoncdn.co.kr/live/externalAss...  2260000000000  \n",
       "4      https://fo4.dn.nexoncdn.co.kr/live/externalAss...   307000000000  \n",
       "...                                                  ...            ...  \n",
       "62381  https://fo4.dn.nexoncdn.co.kr/live/externalAss...        5530000  \n",
       "62382  https://fo4.dn.nexoncdn.co.kr/live/externalAss...           1150  \n",
       "62383  https://fo4.dn.nexoncdn.co.kr/live/externalAss...        3280000  \n",
       "62384  https://fo4.dn.nexoncdn.co.kr/live/externalAss...          77100  \n",
       "62385  https://fo4.dn.nexoncdn.co.kr/live/externalAss...        5620000  \n",
       "\n",
       "[62386 rows x 61 columns]"
      ]
     },
     "execution_count": 3,
     "metadata": {},
     "output_type": "execute_result"
    }
   ],
   "source": [
    "train_df"
   ]
  },
  {
   "cell_type": "markdown",
   "metadata": {},
   "source": [
    "### B. Test"
   ]
  },
  {
   "cell_type": "code",
   "execution_count": 4,
   "metadata": {
    "tags": []
   },
   "outputs": [],
   "source": [
    "test_df = pd.read_csv('./data/test.csv')"
   ]
  },
  {
   "cell_type": "code",
   "execution_count": 5,
   "metadata": {
    "collapsed": true,
    "jupyter": {
     "outputs_hidden": true
    },
    "tags": []
   },
   "outputs": [
    {
     "data": {
      "text/html": [
       "<div><div id=33922344-ad1e-426f-9eaf-be0ab71312de style=\"display:none; background-color:#9D6CFF; color:white; width:200px; height:30px; padding-left:5px; border-radius:4px; flex-direction:row; justify-content:space-around; align-items:center;\" onmouseover=\"this.style.backgroundColor='#BA9BF8'\" onmouseout=\"this.style.backgroundColor='#9D6CFF'\" onclick=\"window.commands?.execute('create-mitosheet-from-dataframe-output');\">See Full Dataframe in Mito</div> <script> if (window.commands?.hasCommand('create-mitosheet-from-dataframe-output')) document.getElementById('33922344-ad1e-426f-9eaf-be0ab71312de').style.display = 'flex' </script> <table border=\"1\" class=\"dataframe\">\n",
       "  <thead>\n",
       "    <tr style=\"text-align: right;\">\n",
       "      <th></th>\n",
       "      <th>id</th>\n",
       "      <th>name</th>\n",
       "      <th>class</th>\n",
       "      <th>pay</th>\n",
       "      <th>overall</th>\n",
       "      <th>position</th>\n",
       "      <th>age</th>\n",
       "      <th>height</th>\n",
       "      <th>weight</th>\n",
       "      <th>bodytype</th>\n",
       "      <th>...</th>\n",
       "      <th>gk_diving</th>\n",
       "      <th>gk_handle</th>\n",
       "      <th>gk_kick</th>\n",
       "      <th>gk_reflex</th>\n",
       "      <th>gk_positioning</th>\n",
       "      <th>teamcolor</th>\n",
       "      <th>clubname</th>\n",
       "      <th>clubimg</th>\n",
       "      <th>mugshot</th>\n",
       "      <th>price</th>\n",
       "    </tr>\n",
       "  </thead>\n",
       "  <tbody>\n",
       "    <tr>\n",
       "      <th>0</th>\n",
       "      <td>100001075</td>\n",
       "      <td>A. 델피에로</td>\n",
       "      <td>ICONTM</td>\n",
       "      <td>31</td>\n",
       "      <td>121</td>\n",
       "      <td>CF</td>\n",
       "      <td>1974.11.09 (50세)</td>\n",
       "      <td>174</td>\n",
       "      <td>74</td>\n",
       "      <td>보통(고유)</td>\n",
       "      <td>...</td>\n",
       "      <td>34</td>\n",
       "      <td>33</td>\n",
       "      <td>34</td>\n",
       "      <td>34</td>\n",
       "      <td>35</td>\n",
       "      <td>델리 다이너모스 FC, 시드니 FC, 유벤투스, 파도바</td>\n",
       "      <td>NaN</td>\n",
       "      <td>NaN</td>\n",
       "      <td>https://fo4.dn.nexoncdn.co.kr/live/externalAssets/common/playersAction/p100001075.png</td>\n",
       "      <td>475000000000</td>\n",
       "    </tr>\n",
       "    <tr>\n",
       "      <th>1</th>\n",
       "      <td>100048940</td>\n",
       "      <td>페트르 체흐</td>\n",
       "      <td>ICONTM</td>\n",
       "      <td>26</td>\n",
       "      <td>120</td>\n",
       "      <td>GK</td>\n",
       "      <td>1982.05.20 (42세)</td>\n",
       "      <td>196</td>\n",
       "      <td>90</td>\n",
       "      <td>마름</td>\n",
       "      <td>...</td>\n",
       "      <td>124</td>\n",
       "      <td>120</td>\n",
       "      <td>112</td>\n",
       "      <td>123</td>\n",
       "      <td>121</td>\n",
       "      <td>아스널, 첼시, 스타드 렌, 스파르타 프라하, 흐멜 블샤니</td>\n",
       "      <td>NaN</td>\n",
       "      <td>NaN</td>\n",
       "      <td>https://fo4.dn.nexoncdn.co.kr/live/externalAssets/common/playersAction/p100048940.png</td>\n",
       "      <td>310000000000</td>\n",
       "    </tr>\n",
       "    <tr>\n",
       "      <th>2</th>\n",
       "      <td>100121939</td>\n",
       "      <td>필립 람</td>\n",
       "      <td>ICONTM</td>\n",
       "      <td>30</td>\n",
       "      <td>121</td>\n",
       "      <td>RB</td>\n",
       "      <td>1983.11.11 (41세)</td>\n",
       "      <td>170</td>\n",
       "      <td>65</td>\n",
       "      <td>마름</td>\n",
       "      <td>...</td>\n",
       "      <td>36</td>\n",
       "      <td>38</td>\n",
       "      <td>34</td>\n",
       "      <td>37</td>\n",
       "      <td>35</td>\n",
       "      <td>VfB 슈투트가르트, 바이에른 뮌헨</td>\n",
       "      <td>NaN</td>\n",
       "      <td>NaN</td>\n",
       "      <td>https://fo4.dn.nexoncdn.co.kr/live/externalAssets/common/playersAction/p100121939.png</td>\n",
       "      <td>662000000000</td>\n",
       "    </tr>\n",
       "    <tr>\n",
       "      <th>3</th>\n",
       "      <td>100247553</td>\n",
       "      <td>가린샤</td>\n",
       "      <td>ICONTM</td>\n",
       "      <td>31</td>\n",
       "      <td>123</td>\n",
       "      <td>RW</td>\n",
       "      <td>1933.10.28 (91세)</td>\n",
       "      <td>169</td>\n",
       "      <td>72</td>\n",
       "      <td>보통</td>\n",
       "      <td>...</td>\n",
       "      <td>35</td>\n",
       "      <td>34</td>\n",
       "      <td>34</td>\n",
       "      <td>38</td>\n",
       "      <td>36</td>\n",
       "      <td>오라리아 AC, 플라멩구, 유니오르 FC, 포르탈레자, 포르투게자, 코린치안스, 보타포구</td>\n",
       "      <td>NaN</td>\n",
       "      <td>NaN</td>\n",
       "      <td>https://fo4.dn.nexoncdn.co.kr/live/externalAssets/common/playersAction/p100247553.png</td>\n",
       "      <td>913000000000</td>\n",
       "    </tr>\n",
       "    <tr>\n",
       "      <th>4</th>\n",
       "      <td>100254642</td>\n",
       "      <td>페렌츠 푸스카스</td>\n",
       "      <td>ICONTM</td>\n",
       "      <td>31</td>\n",
       "      <td>124</td>\n",
       "      <td>CF</td>\n",
       "      <td>1927.04.01</td>\n",
       "      <td>172</td>\n",
       "      <td>72</td>\n",
       "      <td>건장</td>\n",
       "      <td>...</td>\n",
       "      <td>34</td>\n",
       "      <td>35</td>\n",
       "      <td>35</td>\n",
       "      <td>36</td>\n",
       "      <td>36</td>\n",
       "      <td>레알 마드리드, 부다페스트 혼베드</td>\n",
       "      <td>NaN</td>\n",
       "      <td>NaN</td>\n",
       "      <td>https://fo4.dn.nexoncdn.co.kr/live/externalAssets/common/playersAction/p100254642.png</td>\n",
       "      <td>1650000000000</td>\n",
       "    </tr>\n",
       "    <tr>\n",
       "      <th>...</th>\n",
       "      <td>...</td>\n",
       "      <td>...</td>\n",
       "      <td>...</td>\n",
       "      <td>...</td>\n",
       "      <td>...</td>\n",
       "      <td>...</td>\n",
       "      <td>...</td>\n",
       "      <td>...</td>\n",
       "      <td>...</td>\n",
       "      <td>...</td>\n",
       "      <td>...</td>\n",
       "      <td>...</td>\n",
       "      <td>...</td>\n",
       "      <td>...</td>\n",
       "      <td>...</td>\n",
       "      <td>...</td>\n",
       "      <td>...</td>\n",
       "      <td>...</td>\n",
       "      <td>...</td>\n",
       "      <td>...</td>\n",
       "      <td>...</td>\n",
       "    </tr>\n",
       "    <tr>\n",
       "      <th>357</th>\n",
       "      <td>300275270</td>\n",
       "      <td>A. 카리</td>\n",
       "      <td>22LIVE</td>\n",
       "      <td>5</td>\n",
       "      <td>54</td>\n",
       "      <td>CM</td>\n",
       "      <td>2004.11.19 (20세)</td>\n",
       "      <td>176</td>\n",
       "      <td>71</td>\n",
       "      <td>보통</td>\n",
       "      <td>...</td>\n",
       "      <td>16</td>\n",
       "      <td>14</td>\n",
       "      <td>16</td>\n",
       "      <td>10</td>\n",
       "      <td>12</td>\n",
       "      <td>NaN</td>\n",
       "      <td>FC 로리앙</td>\n",
       "      <td>https://fo4.dn.nexoncdn.co.kr/live/externalAssets/common/crests/light/small/l217.png</td>\n",
       "      <td>https://fo4.dn.nexoncdn.co.kr/live/externalAssets/common/players/not_found.png</td>\n",
       "      <td>1000</td>\n",
       "    </tr>\n",
       "    <tr>\n",
       "      <th>358</th>\n",
       "      <td>300275271</td>\n",
       "      <td>O. 보에센</td>\n",
       "      <td>22LIVE</td>\n",
       "      <td>5</td>\n",
       "      <td>48</td>\n",
       "      <td>CM</td>\n",
       "      <td>2005.05.05 (19세)</td>\n",
       "      <td>188</td>\n",
       "      <td>80</td>\n",
       "      <td>마름</td>\n",
       "      <td>...</td>\n",
       "      <td>12</td>\n",
       "      <td>13</td>\n",
       "      <td>10</td>\n",
       "      <td>14</td>\n",
       "      <td>14</td>\n",
       "      <td>NaN</td>\n",
       "      <td>실케보르 IF</td>\n",
       "      <td>https://fo4.dn.nexoncdn.co.kr/live/externalAssets/common/crests/light/small/l270.png</td>\n",
       "      <td>https://fo4.dn.nexoncdn.co.kr/live/externalAssets/common/players/not_found.png</td>\n",
       "      <td>1000</td>\n",
       "    </tr>\n",
       "    <tr>\n",
       "      <th>359</th>\n",
       "      <td>300275272</td>\n",
       "      <td>M. 로버츠</td>\n",
       "      <td>22LIVE</td>\n",
       "      <td>5</td>\n",
       "      <td>51</td>\n",
       "      <td>GK</td>\n",
       "      <td>2001.12.09 (23세)</td>\n",
       "      <td>193</td>\n",
       "      <td>82</td>\n",
       "      <td>보통</td>\n",
       "      <td>...</td>\n",
       "      <td>58</td>\n",
       "      <td>49</td>\n",
       "      <td>47</td>\n",
       "      <td>55</td>\n",
       "      <td>51</td>\n",
       "      <td>NaN</td>\n",
       "      <td>왓퍼드</td>\n",
       "      <td>https://fo4.dn.nexoncdn.co.kr/live/externalAssets/common/crests/light/small/l1795.png</td>\n",
       "      <td>https://fo4.dn.nexoncdn.co.kr/live/externalAssets/common/players/not_found.png</td>\n",
       "      <td>1010</td>\n",
       "    </tr>\n",
       "    <tr>\n",
       "      <th>360</th>\n",
       "      <td>300275273</td>\n",
       "      <td>A. 바소 리치</td>\n",
       "      <td>22LIVE</td>\n",
       "      <td>5</td>\n",
       "      <td>55</td>\n",
       "      <td>ST</td>\n",
       "      <td>2004.06.29 (20세)</td>\n",
       "      <td>176</td>\n",
       "      <td>72</td>\n",
       "      <td>보통</td>\n",
       "      <td>...</td>\n",
       "      <td>12</td>\n",
       "      <td>13</td>\n",
       "      <td>11</td>\n",
       "      <td>15</td>\n",
       "      <td>16</td>\n",
       "      <td>NaN</td>\n",
       "      <td>크레모네세</td>\n",
       "      <td>https://fo4.dn.nexoncdn.co.kr/live/externalAssets/common/crests/light/small/l111434.png</td>\n",
       "      <td>https://fo4.dn.nexoncdn.co.kr/live/externalAssets/common/players/not_found.png</td>\n",
       "      <td>1000</td>\n",
       "    </tr>\n",
       "    <tr>\n",
       "      <th>361</th>\n",
       "      <td>300275274</td>\n",
       "      <td>M. 우로-타그바</td>\n",
       "      <td>22LIVE</td>\n",
       "      <td>5</td>\n",
       "      <td>54</td>\n",
       "      <td>ST</td>\n",
       "      <td>2004.12.17 (20세)</td>\n",
       "      <td>190</td>\n",
       "      <td>81</td>\n",
       "      <td>보통</td>\n",
       "      <td>...</td>\n",
       "      <td>8</td>\n",
       "      <td>9</td>\n",
       "      <td>10</td>\n",
       "      <td>8</td>\n",
       "      <td>7</td>\n",
       "      <td>NaN</td>\n",
       "      <td>TSV 1860 뮌헨</td>\n",
       "      <td>https://fo4.dn.nexoncdn.co.kr/live/externalAssets/common/crests/light/small/l33.png</td>\n",
       "      <td>https://fo4.dn.nexoncdn.co.kr/live/externalAssets/common/players/not_found.png</td>\n",
       "      <td>1000</td>\n",
       "    </tr>\n",
       "  </tbody>\n",
       "</table></div>"
      ],
      "text/plain": [
       "            id       name   class  pay  overall position               age  \\\n",
       "0    100001075    A. 델피에로  ICONTM   31      121       CF  1974.11.09 (50세)   \n",
       "1    100048940     페트르 체흐  ICONTM   26      120       GK  1982.05.20 (42세)   \n",
       "2    100121939       필립 람  ICONTM   30      121       RB  1983.11.11 (41세)   \n",
       "3    100247553        가린샤  ICONTM   31      123       RW  1933.10.28 (91세)   \n",
       "4    100254642   페렌츠 푸스카스  ICONTM   31      124       CF        1927.04.01   \n",
       "..         ...        ...     ...  ...      ...      ...               ...   \n",
       "357  300275270      A. 카리  22LIVE    5       54       CM  2004.11.19 (20세)   \n",
       "358  300275271     O. 보에센  22LIVE    5       48       CM  2005.05.05 (19세)   \n",
       "359  300275272     M. 로버츠  22LIVE    5       51       GK  2001.12.09 (23세)   \n",
       "360  300275273   A. 바소 리치  22LIVE    5       55       ST  2004.06.29 (20세)   \n",
       "361  300275274  M. 우로-타그바  22LIVE    5       54       ST  2004.12.17 (20세)   \n",
       "\n",
       "     height  weight bodytype  ...  gk_diving  gk_handle  gk_kick gk_reflex  \\\n",
       "0       174      74   보통(고유)  ...         34         33       34        34   \n",
       "1       196      90       마름  ...        124        120      112       123   \n",
       "2       170      65       마름  ...         36         38       34        37   \n",
       "3       169      72       보통  ...         35         34       34        38   \n",
       "4       172      72       건장  ...         34         35       35        36   \n",
       "..      ...     ...      ...  ...        ...        ...      ...       ...   \n",
       "357     176      71       보통  ...         16         14       16        10   \n",
       "358     188      80       마름  ...         12         13       10        14   \n",
       "359     193      82       보통  ...         58         49       47        55   \n",
       "360     176      72       보통  ...         12         13       11        15   \n",
       "361     190      81       보통  ...          8          9       10         8   \n",
       "\n",
       "    gk_positioning                                          teamcolor  \\\n",
       "0               35                     델리 다이너모스 FC, 시드니 FC, 유벤투스, 파도바   \n",
       "1              121                   아스널, 첼시, 스타드 렌, 스파르타 프라하, 흐멜 블샤니   \n",
       "2               35                                VfB 슈투트가르트, 바이에른 뮌헨   \n",
       "3               36  오라리아 AC, 플라멩구, 유니오르 FC, 포르탈레자, 포르투게자, 코린치안스, 보타포구   \n",
       "4               36                                 레알 마드리드, 부다페스트 혼베드   \n",
       "..             ...                                                ...   \n",
       "357             12                                                NaN   \n",
       "358             14                                                NaN   \n",
       "359             51                                                NaN   \n",
       "360             16                                                NaN   \n",
       "361              7                                                NaN   \n",
       "\n",
       "        clubname                                            clubimg  \\\n",
       "0            NaN                                                NaN   \n",
       "1            NaN                                                NaN   \n",
       "2            NaN                                                NaN   \n",
       "3            NaN                                                NaN   \n",
       "4            NaN                                                NaN   \n",
       "..           ...                                                ...   \n",
       "357       FC 로리앙  https://fo4.dn.nexoncdn.co.kr/live/externalAss...   \n",
       "358      실케보르 IF  https://fo4.dn.nexoncdn.co.kr/live/externalAss...   \n",
       "359          왓퍼드  https://fo4.dn.nexoncdn.co.kr/live/externalAss...   \n",
       "360        크레모네세  https://fo4.dn.nexoncdn.co.kr/live/externalAss...   \n",
       "361  TSV 1860 뮌헨  https://fo4.dn.nexoncdn.co.kr/live/externalAss...   \n",
       "\n",
       "                                               mugshot          price  \n",
       "0    https://fo4.dn.nexoncdn.co.kr/live/externalAss...   475000000000  \n",
       "1    https://fo4.dn.nexoncdn.co.kr/live/externalAss...   310000000000  \n",
       "2    https://fo4.dn.nexoncdn.co.kr/live/externalAss...   662000000000  \n",
       "3    https://fo4.dn.nexoncdn.co.kr/live/externalAss...   913000000000  \n",
       "4    https://fo4.dn.nexoncdn.co.kr/live/externalAss...  1650000000000  \n",
       "..                                                 ...            ...  \n",
       "357  https://fo4.dn.nexoncdn.co.kr/live/externalAss...           1000  \n",
       "358  https://fo4.dn.nexoncdn.co.kr/live/externalAss...           1000  \n",
       "359  https://fo4.dn.nexoncdn.co.kr/live/externalAss...           1010  \n",
       "360  https://fo4.dn.nexoncdn.co.kr/live/externalAss...           1000  \n",
       "361  https://fo4.dn.nexoncdn.co.kr/live/externalAss...           1000  \n",
       "\n",
       "[362 rows x 61 columns]"
      ]
     },
     "execution_count": 5,
     "metadata": {},
     "output_type": "execute_result"
    }
   ],
   "source": [
    "test_df"
   ]
  },
  {
   "cell_type": "markdown",
   "metadata": {},
   "source": [
    "### C. Concat -> All"
   ]
  },
  {
   "cell_type": "code",
   "execution_count": 6,
   "metadata": {
    "tags": []
   },
   "outputs": [],
   "source": [
    "all_df = pd.concat([train_df, test_df], axis=0)\n",
    "all_df.reset_index(drop=True, inplace=True)"
   ]
  },
  {
   "cell_type": "code",
   "execution_count": 7,
   "metadata": {
    "collapsed": true,
    "jupyter": {
     "outputs_hidden": true
    },
    "tags": []
   },
   "outputs": [
    {
     "data": {
      "text/html": [
       "<div><div id=0c8bc893-def4-4483-ba9d-2ce8f6cdcdf1 style=\"display:none; background-color:#9D6CFF; color:white; width:200px; height:30px; padding-left:5px; border-radius:4px; flex-direction:row; justify-content:space-around; align-items:center;\" onmouseover=\"this.style.backgroundColor='#BA9BF8'\" onmouseout=\"this.style.backgroundColor='#9D6CFF'\" onclick=\"window.commands?.execute('create-mitosheet-from-dataframe-output');\">See Full Dataframe in Mito</div> <script> if (window.commands?.hasCommand('create-mitosheet-from-dataframe-output')) document.getElementById('0c8bc893-def4-4483-ba9d-2ce8f6cdcdf1').style.display = 'flex' </script> <table border=\"1\" class=\"dataframe\">\n",
       "  <thead>\n",
       "    <tr style=\"text-align: right;\">\n",
       "      <th></th>\n",
       "      <th>id</th>\n",
       "      <th>name</th>\n",
       "      <th>class</th>\n",
       "      <th>pay</th>\n",
       "      <th>overall</th>\n",
       "      <th>position</th>\n",
       "      <th>age</th>\n",
       "      <th>height</th>\n",
       "      <th>weight</th>\n",
       "      <th>bodytype</th>\n",
       "      <th>...</th>\n",
       "      <th>gk_diving</th>\n",
       "      <th>gk_handle</th>\n",
       "      <th>gk_kick</th>\n",
       "      <th>gk_reflex</th>\n",
       "      <th>gk_positioning</th>\n",
       "      <th>teamcolor</th>\n",
       "      <th>clubname</th>\n",
       "      <th>clubimg</th>\n",
       "      <th>mugshot</th>\n",
       "      <th>price</th>\n",
       "    </tr>\n",
       "  </thead>\n",
       "  <tbody>\n",
       "    <tr>\n",
       "      <th>0</th>\n",
       "      <td>100000250</td>\n",
       "      <td>데이비드 베컴</td>\n",
       "      <td>ICONTM</td>\n",
       "      <td>31</td>\n",
       "      <td>122</td>\n",
       "      <td>RM</td>\n",
       "      <td>1975.05.02 (49세)</td>\n",
       "      <td>182</td>\n",
       "      <td>74</td>\n",
       "      <td>보통</td>\n",
       "      <td>...</td>\n",
       "      <td>35</td>\n",
       "      <td>37</td>\n",
       "      <td>38</td>\n",
       "      <td>36</td>\n",
       "      <td>37</td>\n",
       "      <td>파리 생제르맹, AC 밀란, AC 밀란, LA 갤럭시, 레알 마드리드, 프레스턴 노스 엔드, 맨체스터 유나이티드</td>\n",
       "      <td>NaN</td>\n",
       "      <td>NaN</td>\n",
       "      <td>https://fo4.dn.nexoncdn.co.kr/live/externalAssets/common/playersAction/p100000250.png</td>\n",
       "      <td>1390000000000</td>\n",
       "    </tr>\n",
       "    <tr>\n",
       "      <th>1</th>\n",
       "      <td>100001114</td>\n",
       "      <td>로베르토 바조</td>\n",
       "      <td>ICONTM</td>\n",
       "      <td>32</td>\n",
       "      <td>123</td>\n",
       "      <td>CF</td>\n",
       "      <td>1967.02.18 (57세)</td>\n",
       "      <td>174</td>\n",
       "      <td>73</td>\n",
       "      <td>보통(고유)</td>\n",
       "      <td>...</td>\n",
       "      <td>34</td>\n",
       "      <td>34</td>\n",
       "      <td>37</td>\n",
       "      <td>37</td>\n",
       "      <td>36</td>\n",
       "      <td>브레시아, 인테르, 볼로냐, AC 밀란, 유벤투스, 피오렌티나, 비첸자</td>\n",
       "      <td>NaN</td>\n",
       "      <td>NaN</td>\n",
       "      <td>https://fo4.dn.nexoncdn.co.kr/live/externalAssets/common/playersAction/p100001114.png</td>\n",
       "      <td>1180000000000</td>\n",
       "    </tr>\n",
       "    <tr>\n",
       "      <th>2</th>\n",
       "      <td>100001256</td>\n",
       "      <td>클라렌스 세이도르프</td>\n",
       "      <td>ICONTM</td>\n",
       "      <td>30</td>\n",
       "      <td>120</td>\n",
       "      <td>CAM</td>\n",
       "      <td>1976.04.01 (48세)</td>\n",
       "      <td>176</td>\n",
       "      <td>78</td>\n",
       "      <td>건장</td>\n",
       "      <td>...</td>\n",
       "      <td>34</td>\n",
       "      <td>35</td>\n",
       "      <td>34</td>\n",
       "      <td>34</td>\n",
       "      <td>35</td>\n",
       "      <td>보타포구, AC 밀란, 인테르, 레알 마드리드, 삼프도리아, 아약스</td>\n",
       "      <td>NaN</td>\n",
       "      <td>NaN</td>\n",
       "      <td>https://fo4.dn.nexoncdn.co.kr/live/externalAssets/common/playersAction/p100001256.png</td>\n",
       "      <td>288000000000</td>\n",
       "    </tr>\n",
       "    <tr>\n",
       "      <th>3</th>\n",
       "      <td>100001625</td>\n",
       "      <td>티에리 앙리</td>\n",
       "      <td>ICONTM</td>\n",
       "      <td>31</td>\n",
       "      <td>122</td>\n",
       "      <td>ST</td>\n",
       "      <td>1977.08.17 (47세)</td>\n",
       "      <td>188</td>\n",
       "      <td>83</td>\n",
       "      <td>마름</td>\n",
       "      <td>...</td>\n",
       "      <td>35</td>\n",
       "      <td>37</td>\n",
       "      <td>34</td>\n",
       "      <td>37</td>\n",
       "      <td>35</td>\n",
       "      <td>아스널, 뉴욕 레드불스, FC 바르셀로나, 아스널, 유벤투스, AS 모나코</td>\n",
       "      <td>NaN</td>\n",
       "      <td>NaN</td>\n",
       "      <td>https://fo4.dn.nexoncdn.co.kr/live/externalAssets/common/playersAction/p100001625.png</td>\n",
       "      <td>2260000000000</td>\n",
       "    </tr>\n",
       "    <tr>\n",
       "      <th>4</th>\n",
       "      <td>100001668</td>\n",
       "      <td>클로드 마켈렐레</td>\n",
       "      <td>ICONTM</td>\n",
       "      <td>29</td>\n",
       "      <td>120</td>\n",
       "      <td>CDM</td>\n",
       "      <td>1973.02.18 (51세)</td>\n",
       "      <td>174</td>\n",
       "      <td>70</td>\n",
       "      <td>보통</td>\n",
       "      <td>...</td>\n",
       "      <td>36</td>\n",
       "      <td>34</td>\n",
       "      <td>36</td>\n",
       "      <td>34</td>\n",
       "      <td>37</td>\n",
       "      <td>파리 생제르맹, 첼시, 레알 마드리드, 셀타 비고, 올랭피크 마르세유, FC 낭트, 스타드 브레스트 29</td>\n",
       "      <td>NaN</td>\n",
       "      <td>NaN</td>\n",
       "      <td>https://fo4.dn.nexoncdn.co.kr/live/externalAssets/common/playersAction/p100001668.png</td>\n",
       "      <td>307000000000</td>\n",
       "    </tr>\n",
       "    <tr>\n",
       "      <th>...</th>\n",
       "      <td>...</td>\n",
       "      <td>...</td>\n",
       "      <td>...</td>\n",
       "      <td>...</td>\n",
       "      <td>...</td>\n",
       "      <td>...</td>\n",
       "      <td>...</td>\n",
       "      <td>...</td>\n",
       "      <td>...</td>\n",
       "      <td>...</td>\n",
       "      <td>...</td>\n",
       "      <td>...</td>\n",
       "      <td>...</td>\n",
       "      <td>...</td>\n",
       "      <td>...</td>\n",
       "      <td>...</td>\n",
       "      <td>...</td>\n",
       "      <td>...</td>\n",
       "      <td>...</td>\n",
       "      <td>...</td>\n",
       "      <td>...</td>\n",
       "    </tr>\n",
       "    <tr>\n",
       "      <th>62743</th>\n",
       "      <td>300275270</td>\n",
       "      <td>A. 카리</td>\n",
       "      <td>22LIVE</td>\n",
       "      <td>5</td>\n",
       "      <td>54</td>\n",
       "      <td>CM</td>\n",
       "      <td>2004.11.19 (20세)</td>\n",
       "      <td>176</td>\n",
       "      <td>71</td>\n",
       "      <td>보통</td>\n",
       "      <td>...</td>\n",
       "      <td>16</td>\n",
       "      <td>14</td>\n",
       "      <td>16</td>\n",
       "      <td>10</td>\n",
       "      <td>12</td>\n",
       "      <td>NaN</td>\n",
       "      <td>FC 로리앙</td>\n",
       "      <td>https://fo4.dn.nexoncdn.co.kr/live/externalAssets/common/crests/light/small/l217.png</td>\n",
       "      <td>https://fo4.dn.nexoncdn.co.kr/live/externalAssets/common/players/not_found.png</td>\n",
       "      <td>1000</td>\n",
       "    </tr>\n",
       "    <tr>\n",
       "      <th>62744</th>\n",
       "      <td>300275271</td>\n",
       "      <td>O. 보에센</td>\n",
       "      <td>22LIVE</td>\n",
       "      <td>5</td>\n",
       "      <td>48</td>\n",
       "      <td>CM</td>\n",
       "      <td>2005.05.05 (19세)</td>\n",
       "      <td>188</td>\n",
       "      <td>80</td>\n",
       "      <td>마름</td>\n",
       "      <td>...</td>\n",
       "      <td>12</td>\n",
       "      <td>13</td>\n",
       "      <td>10</td>\n",
       "      <td>14</td>\n",
       "      <td>14</td>\n",
       "      <td>NaN</td>\n",
       "      <td>실케보르 IF</td>\n",
       "      <td>https://fo4.dn.nexoncdn.co.kr/live/externalAssets/common/crests/light/small/l270.png</td>\n",
       "      <td>https://fo4.dn.nexoncdn.co.kr/live/externalAssets/common/players/not_found.png</td>\n",
       "      <td>1000</td>\n",
       "    </tr>\n",
       "    <tr>\n",
       "      <th>62745</th>\n",
       "      <td>300275272</td>\n",
       "      <td>M. 로버츠</td>\n",
       "      <td>22LIVE</td>\n",
       "      <td>5</td>\n",
       "      <td>51</td>\n",
       "      <td>GK</td>\n",
       "      <td>2001.12.09 (23세)</td>\n",
       "      <td>193</td>\n",
       "      <td>82</td>\n",
       "      <td>보통</td>\n",
       "      <td>...</td>\n",
       "      <td>58</td>\n",
       "      <td>49</td>\n",
       "      <td>47</td>\n",
       "      <td>55</td>\n",
       "      <td>51</td>\n",
       "      <td>NaN</td>\n",
       "      <td>왓퍼드</td>\n",
       "      <td>https://fo4.dn.nexoncdn.co.kr/live/externalAssets/common/crests/light/small/l1795.png</td>\n",
       "      <td>https://fo4.dn.nexoncdn.co.kr/live/externalAssets/common/players/not_found.png</td>\n",
       "      <td>1010</td>\n",
       "    </tr>\n",
       "    <tr>\n",
       "      <th>62746</th>\n",
       "      <td>300275273</td>\n",
       "      <td>A. 바소 리치</td>\n",
       "      <td>22LIVE</td>\n",
       "      <td>5</td>\n",
       "      <td>55</td>\n",
       "      <td>ST</td>\n",
       "      <td>2004.06.29 (20세)</td>\n",
       "      <td>176</td>\n",
       "      <td>72</td>\n",
       "      <td>보통</td>\n",
       "      <td>...</td>\n",
       "      <td>12</td>\n",
       "      <td>13</td>\n",
       "      <td>11</td>\n",
       "      <td>15</td>\n",
       "      <td>16</td>\n",
       "      <td>NaN</td>\n",
       "      <td>크레모네세</td>\n",
       "      <td>https://fo4.dn.nexoncdn.co.kr/live/externalAssets/common/crests/light/small/l111434.png</td>\n",
       "      <td>https://fo4.dn.nexoncdn.co.kr/live/externalAssets/common/players/not_found.png</td>\n",
       "      <td>1000</td>\n",
       "    </tr>\n",
       "    <tr>\n",
       "      <th>62747</th>\n",
       "      <td>300275274</td>\n",
       "      <td>M. 우로-타그바</td>\n",
       "      <td>22LIVE</td>\n",
       "      <td>5</td>\n",
       "      <td>54</td>\n",
       "      <td>ST</td>\n",
       "      <td>2004.12.17 (20세)</td>\n",
       "      <td>190</td>\n",
       "      <td>81</td>\n",
       "      <td>보통</td>\n",
       "      <td>...</td>\n",
       "      <td>8</td>\n",
       "      <td>9</td>\n",
       "      <td>10</td>\n",
       "      <td>8</td>\n",
       "      <td>7</td>\n",
       "      <td>NaN</td>\n",
       "      <td>TSV 1860 뮌헨</td>\n",
       "      <td>https://fo4.dn.nexoncdn.co.kr/live/externalAssets/common/crests/light/small/l33.png</td>\n",
       "      <td>https://fo4.dn.nexoncdn.co.kr/live/externalAssets/common/players/not_found.png</td>\n",
       "      <td>1000</td>\n",
       "    </tr>\n",
       "  </tbody>\n",
       "</table></div>"
      ],
      "text/plain": [
       "              id        name   class  pay  overall position               age  \\\n",
       "0      100000250     데이비드 베컴  ICONTM   31      122       RM  1975.05.02 (49세)   \n",
       "1      100001114     로베르토 바조  ICONTM   32      123       CF  1967.02.18 (57세)   \n",
       "2      100001256  클라렌스 세이도르프  ICONTM   30      120      CAM  1976.04.01 (48세)   \n",
       "3      100001625      티에리 앙리  ICONTM   31      122       ST  1977.08.17 (47세)   \n",
       "4      100001668    클로드 마켈렐레  ICONTM   29      120      CDM  1973.02.18 (51세)   \n",
       "...          ...         ...     ...  ...      ...      ...               ...   \n",
       "62743  300275270       A. 카리  22LIVE    5       54       CM  2004.11.19 (20세)   \n",
       "62744  300275271      O. 보에센  22LIVE    5       48       CM  2005.05.05 (19세)   \n",
       "62745  300275272      M. 로버츠  22LIVE    5       51       GK  2001.12.09 (23세)   \n",
       "62746  300275273    A. 바소 리치  22LIVE    5       55       ST  2004.06.29 (20세)   \n",
       "62747  300275274   M. 우로-타그바  22LIVE    5       54       ST  2004.12.17 (20세)   \n",
       "\n",
       "       height  weight bodytype  ...  gk_diving  gk_handle  gk_kick gk_reflex  \\\n",
       "0         182      74       보통  ...         35         37       38        36   \n",
       "1         174      73   보통(고유)  ...         34         34       37        37   \n",
       "2         176      78       건장  ...         34         35       34        34   \n",
       "3         188      83       마름  ...         35         37       34        37   \n",
       "4         174      70       보통  ...         36         34       36        34   \n",
       "...       ...     ...      ...  ...        ...        ...      ...       ...   \n",
       "62743     176      71       보통  ...         16         14       16        10   \n",
       "62744     188      80       마름  ...         12         13       10        14   \n",
       "62745     193      82       보통  ...         58         49       47        55   \n",
       "62746     176      72       보통  ...         12         13       11        15   \n",
       "62747     190      81       보통  ...          8          9       10         8   \n",
       "\n",
       "      gk_positioning                                          teamcolor  \\\n",
       "0                 37  파리 생제르맹, AC 밀란, AC 밀란, LA 갤럭시, 레알 마드리드, 프레스턴 노...   \n",
       "1                 36            브레시아, 인테르, 볼로냐, AC 밀란, 유벤투스, 피오렌티나, 비첸자   \n",
       "2                 35              보타포구, AC 밀란, 인테르, 레알 마드리드, 삼프도리아, 아약스   \n",
       "3                 35          아스널, 뉴욕 레드불스, FC 바르셀로나, 아스널, 유벤투스, AS 모나코   \n",
       "4                 37  파리 생제르맹, 첼시, 레알 마드리드, 셀타 비고, 올랭피크 마르세유, FC 낭트,...   \n",
       "...              ...                                                ...   \n",
       "62743             12                                                NaN   \n",
       "62744             14                                                NaN   \n",
       "62745             51                                                NaN   \n",
       "62746             16                                                NaN   \n",
       "62747              7                                                NaN   \n",
       "\n",
       "          clubname                                            clubimg  \\\n",
       "0              NaN                                                NaN   \n",
       "1              NaN                                                NaN   \n",
       "2              NaN                                                NaN   \n",
       "3              NaN                                                NaN   \n",
       "4              NaN                                                NaN   \n",
       "...            ...                                                ...   \n",
       "62743       FC 로리앙  https://fo4.dn.nexoncdn.co.kr/live/externalAss...   \n",
       "62744      실케보르 IF  https://fo4.dn.nexoncdn.co.kr/live/externalAss...   \n",
       "62745          왓퍼드  https://fo4.dn.nexoncdn.co.kr/live/externalAss...   \n",
       "62746        크레모네세  https://fo4.dn.nexoncdn.co.kr/live/externalAss...   \n",
       "62747  TSV 1860 뮌헨  https://fo4.dn.nexoncdn.co.kr/live/externalAss...   \n",
       "\n",
       "                                                 mugshot          price  \n",
       "0      https://fo4.dn.nexoncdn.co.kr/live/externalAss...  1390000000000  \n",
       "1      https://fo4.dn.nexoncdn.co.kr/live/externalAss...  1180000000000  \n",
       "2      https://fo4.dn.nexoncdn.co.kr/live/externalAss...   288000000000  \n",
       "3      https://fo4.dn.nexoncdn.co.kr/live/externalAss...  2260000000000  \n",
       "4      https://fo4.dn.nexoncdn.co.kr/live/externalAss...   307000000000  \n",
       "...                                                  ...            ...  \n",
       "62743  https://fo4.dn.nexoncdn.co.kr/live/externalAss...           1000  \n",
       "62744  https://fo4.dn.nexoncdn.co.kr/live/externalAss...           1000  \n",
       "62745  https://fo4.dn.nexoncdn.co.kr/live/externalAss...           1010  \n",
       "62746  https://fo4.dn.nexoncdn.co.kr/live/externalAss...           1000  \n",
       "62747  https://fo4.dn.nexoncdn.co.kr/live/externalAss...           1000  \n",
       "\n",
       "[62748 rows x 61 columns]"
      ]
     },
     "execution_count": 7,
     "metadata": {},
     "output_type": "execute_result"
    }
   ],
   "source": [
    "all_df"
   ]
  },
  {
   "cell_type": "markdown",
   "metadata": {},
   "source": [
    "## 2. 전처리"
   ]
  },
  {
   "cell_type": "markdown",
   "metadata": {},
   "source": [
    "### 2.1. 나이 / 국가"
   ]
  },
  {
   "cell_type": "code",
   "execution_count": 8,
   "metadata": {
    "tags": []
   },
   "outputs": [],
   "source": [
    "def age_changer(x):\n",
    "    birthyear = x[:4]\n",
    "    newage = 2024 - int(birthyear)\n",
    "    return newage\n",
    "\n",
    "def nation_changer(x):\n",
    "    if x not in ['잉글랜드', '스페인', '독일', '프랑스', '대한민국', '아르헨티나', '이탈리아', '브라질', '네덜란드', '포르투갈']:\n",
    "        return 'others'\n",
    "    else:\n",
    "        return str(x)"
   ]
  },
  {
   "cell_type": "code",
   "execution_count": 9,
   "metadata": {},
   "outputs": [],
   "source": [
    "all_df['age'] = all_df['age'].apply(age_changer)\n",
    "all_df['nation'] = all_df['nation'].apply(nation_changer)"
   ]
  },
  {
   "cell_type": "code",
   "execution_count": 10,
   "metadata": {
    "tags": []
   },
   "outputs": [
    {
     "data": {
      "text/plain": [
       "count    62748.000000\n",
       "mean        29.986948\n",
       "std          6.460436\n",
       "min         18.000000\n",
       "25%         25.000000\n",
       "50%         29.000000\n",
       "75%         34.000000\n",
       "max        117.000000\n",
       "Name: age, dtype: float64"
      ]
     },
     "execution_count": 10,
     "metadata": {},
     "output_type": "execute_result"
    }
   ],
   "source": [
    "all_df.age.describe()"
   ]
  },
  {
   "cell_type": "code",
   "execution_count": 11,
   "metadata": {
    "tags": []
   },
   "outputs": [
    {
     "data": {
      "text/plain": [
       "others    30299\n",
       "잉글랜드       5393\n",
       "스페인        4154\n",
       "독일         3865\n",
       "프랑스        3820\n",
       "대한민국       3410\n",
       "아르헨티나      3182\n",
       "이탈리아       2646\n",
       "브라질        2487\n",
       "네덜란드       1931\n",
       "포르투갈       1561\n",
       "Name: nation, dtype: int64"
      ]
     },
     "execution_count": 11,
     "metadata": {},
     "output_type": "execute_result"
    }
   ],
   "source": [
    "all_df.nation.value_counts()"
   ]
  },
  {
   "cell_type": "markdown",
   "metadata": {},
   "source": [
    "### 2.2. One-Hot"
   ]
  },
  {
   "cell_type": "code",
   "execution_count": 12,
   "metadata": {},
   "outputs": [],
   "source": [
    "obj_keys = ['class', 'position', 'bodytype', 'reputation', 'nation']\n",
    "ohe = OneHotEncoder(sparse=False)\n",
    "fitter = ohe.fit(all_df[obj_keys])\n",
    "temp = ohe.transform(all_df[obj_keys])"
   ]
  },
  {
   "cell_type": "code",
   "execution_count": 13,
   "metadata": {},
   "outputs": [
    {
     "data": {
      "text/plain": [
       "(62748, 124)"
      ]
     },
     "execution_count": 13,
     "metadata": {},
     "output_type": "execute_result"
    }
   ],
   "source": [
    "encode_df = pd.DataFrame(temp, columns=['17LIVE', '18KFA', '18LIVE', '18PLA', '18PLS', '18TOTY', '19KFA',\n",
    "        '19LIVE', '19NG', '19PLA', '19PLS', '19TOTS', '19TOTY', '19UCL',\n",
    "        '2012KH', '20KL', '20KLB', '20LIVE', '20NG', '20PL', '20TOTN',\n",
    "        '20TOTS', '20TOTY', '20UCL', '21KFA', '21KL', '21KLB', '21LIVE',\n",
    "        '21NG', '21PL', '21TOTN', '21TOTS', '21TOTY', '21UCL', '22HR',\n",
    "        '22KFA', '22KL', '22KLB', '22LIVE', '22NG', '22PL', '22TOTN',\n",
    "        '22TOTS', '22TOTY', '22UCL', '23HR', '23KL', '23TOTN', '23TOTS',\n",
    "        '23TOTY', 'BOE21', 'BTB', 'BWC', 'CAP', 'CFA', 'COC', 'EBS', 'FA',\n",
    "        'GR', 'HG', 'HOT', 'ICON', 'ICONTM', 'LA', 'LH', 'LN', 'LOL', 'MC',\n",
    "        'MCFC', 'MCICON', 'MOG', 'NHD', 'NTG', 'OTW', 'RMCF', 'RTN', 'SPL',\n",
    "        'TB', 'TC', 'TKI', 'TKL', 'TT', 'UP', 'VTR', 'WC22', 'CAM', 'CB', 'CDM', 'CF', 'CM', 'GK', 'LB', 'LF', 'LM', 'LW',\n",
    "        'LWB', 'RB', 'RF', 'RM', 'RW', 'RWB', 'ST', '건장', '건장(고유)', '마름', '마름(고유)', '보통', '보통(고유)',\n",
    "        '레전더리', '월드클래스', '유명선수', '일반선수', '탑클래스', 'others', '네덜란드', '대한민국', '독일', '브라질', '스페인', '아르헨티나', '이탈리아',\n",
    "        '잉글랜드', '포르투갈', '프랑스'])\n",
    "encode_df.shape"
   ]
  },
  {
   "cell_type": "code",
   "execution_count": 14,
   "metadata": {
    "tags": []
   },
   "outputs": [
    {
     "data": {
      "text/html": [
       "<div><div id=47b2a855-46dd-48ad-876b-81962fea3ea8 style=\"display:none; background-color:#9D6CFF; color:white; width:200px; height:30px; padding-left:5px; border-radius:4px; flex-direction:row; justify-content:space-around; align-items:center;\" onmouseover=\"this.style.backgroundColor='#BA9BF8'\" onmouseout=\"this.style.backgroundColor='#9D6CFF'\" onclick=\"window.commands?.execute('create-mitosheet-from-dataframe-output');\">See Full Dataframe in Mito</div> <script> if (window.commands?.hasCommand('create-mitosheet-from-dataframe-output')) document.getElementById('47b2a855-46dd-48ad-876b-81962fea3ea8').style.display = 'flex' </script> <table border=\"1\" class=\"dataframe\">\n",
       "  <thead>\n",
       "    <tr style=\"text-align: right;\">\n",
       "      <th></th>\n",
       "      <th>id</th>\n",
       "      <th>name</th>\n",
       "      <th>class</th>\n",
       "      <th>pay</th>\n",
       "      <th>overall</th>\n",
       "      <th>position</th>\n",
       "      <th>age</th>\n",
       "      <th>height</th>\n",
       "      <th>weight</th>\n",
       "      <th>bodytype</th>\n",
       "      <th>...</th>\n",
       "      <th>네덜란드</th>\n",
       "      <th>대한민국</th>\n",
       "      <th>독일</th>\n",
       "      <th>브라질</th>\n",
       "      <th>스페인</th>\n",
       "      <th>아르헨티나</th>\n",
       "      <th>이탈리아</th>\n",
       "      <th>잉글랜드</th>\n",
       "      <th>포르투갈</th>\n",
       "      <th>프랑스</th>\n",
       "    </tr>\n",
       "  </thead>\n",
       "  <tbody>\n",
       "    <tr>\n",
       "      <th>0</th>\n",
       "      <td>100000250</td>\n",
       "      <td>데이비드 베컴</td>\n",
       "      <td>ICONTM</td>\n",
       "      <td>31</td>\n",
       "      <td>122</td>\n",
       "      <td>RM</td>\n",
       "      <td>49</td>\n",
       "      <td>182</td>\n",
       "      <td>74</td>\n",
       "      <td>보통</td>\n",
       "      <td>...</td>\n",
       "      <td>0.0</td>\n",
       "      <td>0.0</td>\n",
       "      <td>0.0</td>\n",
       "      <td>0.0</td>\n",
       "      <td>0.0</td>\n",
       "      <td>0.0</td>\n",
       "      <td>0.0</td>\n",
       "      <td>1.0</td>\n",
       "      <td>0.0</td>\n",
       "      <td>0.0</td>\n",
       "    </tr>\n",
       "    <tr>\n",
       "      <th>1</th>\n",
       "      <td>100001114</td>\n",
       "      <td>로베르토 바조</td>\n",
       "      <td>ICONTM</td>\n",
       "      <td>32</td>\n",
       "      <td>123</td>\n",
       "      <td>CF</td>\n",
       "      <td>57</td>\n",
       "      <td>174</td>\n",
       "      <td>73</td>\n",
       "      <td>보통(고유)</td>\n",
       "      <td>...</td>\n",
       "      <td>0.0</td>\n",
       "      <td>0.0</td>\n",
       "      <td>0.0</td>\n",
       "      <td>0.0</td>\n",
       "      <td>0.0</td>\n",
       "      <td>0.0</td>\n",
       "      <td>1.0</td>\n",
       "      <td>0.0</td>\n",
       "      <td>0.0</td>\n",
       "      <td>0.0</td>\n",
       "    </tr>\n",
       "    <tr>\n",
       "      <th>2</th>\n",
       "      <td>100001256</td>\n",
       "      <td>클라렌스 세이도르프</td>\n",
       "      <td>ICONTM</td>\n",
       "      <td>30</td>\n",
       "      <td>120</td>\n",
       "      <td>CAM</td>\n",
       "      <td>48</td>\n",
       "      <td>176</td>\n",
       "      <td>78</td>\n",
       "      <td>건장</td>\n",
       "      <td>...</td>\n",
       "      <td>1.0</td>\n",
       "      <td>0.0</td>\n",
       "      <td>0.0</td>\n",
       "      <td>0.0</td>\n",
       "      <td>0.0</td>\n",
       "      <td>0.0</td>\n",
       "      <td>0.0</td>\n",
       "      <td>0.0</td>\n",
       "      <td>0.0</td>\n",
       "      <td>0.0</td>\n",
       "    </tr>\n",
       "    <tr>\n",
       "      <th>3</th>\n",
       "      <td>100001625</td>\n",
       "      <td>티에리 앙리</td>\n",
       "      <td>ICONTM</td>\n",
       "      <td>31</td>\n",
       "      <td>122</td>\n",
       "      <td>ST</td>\n",
       "      <td>47</td>\n",
       "      <td>188</td>\n",
       "      <td>83</td>\n",
       "      <td>마름</td>\n",
       "      <td>...</td>\n",
       "      <td>0.0</td>\n",
       "      <td>0.0</td>\n",
       "      <td>0.0</td>\n",
       "      <td>0.0</td>\n",
       "      <td>0.0</td>\n",
       "      <td>0.0</td>\n",
       "      <td>0.0</td>\n",
       "      <td>0.0</td>\n",
       "      <td>0.0</td>\n",
       "      <td>1.0</td>\n",
       "    </tr>\n",
       "    <tr>\n",
       "      <th>4</th>\n",
       "      <td>100001668</td>\n",
       "      <td>클로드 마켈렐레</td>\n",
       "      <td>ICONTM</td>\n",
       "      <td>29</td>\n",
       "      <td>120</td>\n",
       "      <td>CDM</td>\n",
       "      <td>51</td>\n",
       "      <td>174</td>\n",
       "      <td>70</td>\n",
       "      <td>보통</td>\n",
       "      <td>...</td>\n",
       "      <td>0.0</td>\n",
       "      <td>0.0</td>\n",
       "      <td>0.0</td>\n",
       "      <td>0.0</td>\n",
       "      <td>0.0</td>\n",
       "      <td>0.0</td>\n",
       "      <td>0.0</td>\n",
       "      <td>0.0</td>\n",
       "      <td>0.0</td>\n",
       "      <td>1.0</td>\n",
       "    </tr>\n",
       "    <tr>\n",
       "      <th>...</th>\n",
       "      <td>...</td>\n",
       "      <td>...</td>\n",
       "      <td>...</td>\n",
       "      <td>...</td>\n",
       "      <td>...</td>\n",
       "      <td>...</td>\n",
       "      <td>...</td>\n",
       "      <td>...</td>\n",
       "      <td>...</td>\n",
       "      <td>...</td>\n",
       "      <td>...</td>\n",
       "      <td>...</td>\n",
       "      <td>...</td>\n",
       "      <td>...</td>\n",
       "      <td>...</td>\n",
       "      <td>...</td>\n",
       "      <td>...</td>\n",
       "      <td>...</td>\n",
       "      <td>...</td>\n",
       "      <td>...</td>\n",
       "      <td>...</td>\n",
       "    </tr>\n",
       "    <tr>\n",
       "      <th>62743</th>\n",
       "      <td>300275270</td>\n",
       "      <td>A. 카리</td>\n",
       "      <td>22LIVE</td>\n",
       "      <td>5</td>\n",
       "      <td>54</td>\n",
       "      <td>CM</td>\n",
       "      <td>20</td>\n",
       "      <td>176</td>\n",
       "      <td>71</td>\n",
       "      <td>보통</td>\n",
       "      <td>...</td>\n",
       "      <td>0.0</td>\n",
       "      <td>0.0</td>\n",
       "      <td>0.0</td>\n",
       "      <td>0.0</td>\n",
       "      <td>0.0</td>\n",
       "      <td>0.0</td>\n",
       "      <td>0.0</td>\n",
       "      <td>0.0</td>\n",
       "      <td>0.0</td>\n",
       "      <td>1.0</td>\n",
       "    </tr>\n",
       "    <tr>\n",
       "      <th>62744</th>\n",
       "      <td>300275271</td>\n",
       "      <td>O. 보에센</td>\n",
       "      <td>22LIVE</td>\n",
       "      <td>5</td>\n",
       "      <td>48</td>\n",
       "      <td>CM</td>\n",
       "      <td>19</td>\n",
       "      <td>188</td>\n",
       "      <td>80</td>\n",
       "      <td>마름</td>\n",
       "      <td>...</td>\n",
       "      <td>0.0</td>\n",
       "      <td>0.0</td>\n",
       "      <td>0.0</td>\n",
       "      <td>0.0</td>\n",
       "      <td>0.0</td>\n",
       "      <td>0.0</td>\n",
       "      <td>0.0</td>\n",
       "      <td>0.0</td>\n",
       "      <td>0.0</td>\n",
       "      <td>0.0</td>\n",
       "    </tr>\n",
       "    <tr>\n",
       "      <th>62745</th>\n",
       "      <td>300275272</td>\n",
       "      <td>M. 로버츠</td>\n",
       "      <td>22LIVE</td>\n",
       "      <td>5</td>\n",
       "      <td>51</td>\n",
       "      <td>GK</td>\n",
       "      <td>23</td>\n",
       "      <td>193</td>\n",
       "      <td>82</td>\n",
       "      <td>보통</td>\n",
       "      <td>...</td>\n",
       "      <td>0.0</td>\n",
       "      <td>0.0</td>\n",
       "      <td>0.0</td>\n",
       "      <td>0.0</td>\n",
       "      <td>0.0</td>\n",
       "      <td>0.0</td>\n",
       "      <td>0.0</td>\n",
       "      <td>1.0</td>\n",
       "      <td>0.0</td>\n",
       "      <td>0.0</td>\n",
       "    </tr>\n",
       "    <tr>\n",
       "      <th>62746</th>\n",
       "      <td>300275273</td>\n",
       "      <td>A. 바소 리치</td>\n",
       "      <td>22LIVE</td>\n",
       "      <td>5</td>\n",
       "      <td>55</td>\n",
       "      <td>ST</td>\n",
       "      <td>20</td>\n",
       "      <td>176</td>\n",
       "      <td>72</td>\n",
       "      <td>보통</td>\n",
       "      <td>...</td>\n",
       "      <td>0.0</td>\n",
       "      <td>0.0</td>\n",
       "      <td>0.0</td>\n",
       "      <td>0.0</td>\n",
       "      <td>0.0</td>\n",
       "      <td>0.0</td>\n",
       "      <td>1.0</td>\n",
       "      <td>0.0</td>\n",
       "      <td>0.0</td>\n",
       "      <td>0.0</td>\n",
       "    </tr>\n",
       "    <tr>\n",
       "      <th>62747</th>\n",
       "      <td>300275274</td>\n",
       "      <td>M. 우로-타그바</td>\n",
       "      <td>22LIVE</td>\n",
       "      <td>5</td>\n",
       "      <td>54</td>\n",
       "      <td>ST</td>\n",
       "      <td>20</td>\n",
       "      <td>190</td>\n",
       "      <td>81</td>\n",
       "      <td>보통</td>\n",
       "      <td>...</td>\n",
       "      <td>0.0</td>\n",
       "      <td>0.0</td>\n",
       "      <td>0.0</td>\n",
       "      <td>0.0</td>\n",
       "      <td>0.0</td>\n",
       "      <td>0.0</td>\n",
       "      <td>0.0</td>\n",
       "      <td>0.0</td>\n",
       "      <td>0.0</td>\n",
       "      <td>0.0</td>\n",
       "    </tr>\n",
       "  </tbody>\n",
       "</table></div>"
      ],
      "text/plain": [
       "              id        name   class  pay  overall position  age  height  \\\n",
       "0      100000250     데이비드 베컴  ICONTM   31      122       RM   49     182   \n",
       "1      100001114     로베르토 바조  ICONTM   32      123       CF   57     174   \n",
       "2      100001256  클라렌스 세이도르프  ICONTM   30      120      CAM   48     176   \n",
       "3      100001625      티에리 앙리  ICONTM   31      122       ST   47     188   \n",
       "4      100001668    클로드 마켈렐레  ICONTM   29      120      CDM   51     174   \n",
       "...          ...         ...     ...  ...      ...      ...  ...     ...   \n",
       "62743  300275270       A. 카리  22LIVE    5       54       CM   20     176   \n",
       "62744  300275271      O. 보에센  22LIVE    5       48       CM   19     188   \n",
       "62745  300275272      M. 로버츠  22LIVE    5       51       GK   23     193   \n",
       "62746  300275273    A. 바소 리치  22LIVE    5       55       ST   20     176   \n",
       "62747  300275274   M. 우로-타그바  22LIVE    5       54       ST   20     190   \n",
       "\n",
       "       weight bodytype  ...  네덜란드  대한민국   독일  브라질  스페인 아르헨티나  이탈리아  잉글랜드  \\\n",
       "0          74       보통  ...   0.0   0.0  0.0  0.0  0.0   0.0   0.0   1.0   \n",
       "1          73   보통(고유)  ...   0.0   0.0  0.0  0.0  0.0   0.0   1.0   0.0   \n",
       "2          78       건장  ...   1.0   0.0  0.0  0.0  0.0   0.0   0.0   0.0   \n",
       "3          83       마름  ...   0.0   0.0  0.0  0.0  0.0   0.0   0.0   0.0   \n",
       "4          70       보통  ...   0.0   0.0  0.0  0.0  0.0   0.0   0.0   0.0   \n",
       "...       ...      ...  ...   ...   ...  ...  ...  ...   ...   ...   ...   \n",
       "62743      71       보통  ...   0.0   0.0  0.0  0.0  0.0   0.0   0.0   0.0   \n",
       "62744      80       마름  ...   0.0   0.0  0.0  0.0  0.0   0.0   0.0   0.0   \n",
       "62745      82       보통  ...   0.0   0.0  0.0  0.0  0.0   0.0   0.0   1.0   \n",
       "62746      72       보통  ...   0.0   0.0  0.0  0.0  0.0   0.0   1.0   0.0   \n",
       "62747      81       보통  ...   0.0   0.0  0.0  0.0  0.0   0.0   0.0   0.0   \n",
       "\n",
       "       포르투갈  프랑스  \n",
       "0       0.0  0.0  \n",
       "1       0.0  0.0  \n",
       "2       0.0  0.0  \n",
       "3       0.0  1.0  \n",
       "4       0.0  1.0  \n",
       "...     ...  ...  \n",
       "62743   0.0  1.0  \n",
       "62744   0.0  0.0  \n",
       "62745   0.0  0.0  \n",
       "62746   0.0  0.0  \n",
       "62747   0.0  0.0  \n",
       "\n",
       "[62748 rows x 185 columns]"
      ]
     },
     "execution_count": 14,
     "metadata": {},
     "output_type": "execute_result"
    }
   ],
   "source": [
    "final_df = pd.concat([all_df, encode_df], axis=1)\n",
    "final_df"
   ]
  },
  {
   "cell_type": "code",
   "execution_count": 15,
   "metadata": {
    "tags": []
   },
   "outputs": [],
   "source": [
    "drop_keys = ['id', 'name', 'teamcolor', 'clubname', 'clubimg', 'mugshot', 'traits', 'class', 'position', 'bodytype', 'reputation', 'nation']\n",
    "for key in drop_keys:\n",
    "    final_df.drop(key, axis=1, inplace=True)"
   ]
  },
  {
   "cell_type": "code",
   "execution_count": 16,
   "metadata": {},
   "outputs": [
    {
     "data": {
      "text/plain": [
       "Index(['pay', 'overall', 'age', 'height', 'weight', 'skill', 'leftfoot',\n",
       "       'rightfoot', 'ovr_pace', 'ovr_shoot',\n",
       "       ...\n",
       "       '네덜란드', '대한민국', '독일', '브라질', '스페인', '아르헨티나', '이탈리아', '잉글랜드', '포르투갈',\n",
       "       '프랑스'],\n",
       "      dtype='object', length=173)"
      ]
     },
     "execution_count": 16,
     "metadata": {},
     "output_type": "execute_result"
    }
   ],
   "source": [
    "final_df.columns"
   ]
  },
  {
   "cell_type": "markdown",
   "metadata": {},
   "source": [
    "### 2.3. 상관분석"
   ]
  },
  {
   "cell_type": "code",
   "execution_count": null,
   "metadata": {
    "collapsed": true,
    "jupyter": {
     "outputs_hidden": true
    },
    "tags": []
   },
   "outputs": [
    {
     "name": "stderr",
     "output_type": "stream",
     "text": [
      "ERROR:root:Internal Python error in the inspect module.\n",
      "Below is the traceback from this internal error.\n",
      "\n"
     ]
    },
    {
     "name": "stdout",
     "output_type": "stream",
     "text": [
      "Traceback (most recent call last):\n",
      "  File \"/opt/anaconda3/lib/python3.9/site-packages/IPython/core/interactiveshell.py\", line 3457, in run_code\n",
      "    exec(code_obj, self.user_global_ns, self.user_ns)\n",
      "  File \"/var/folders/ch/k30xkynn5hj_j3mq25frp2r80000gn/T/ipykernel_66907/3029817779.py\", line 1, in <module>\n",
      "    sns.heatmap(final_df, annot=True, cmap='coolwarm')\n",
      "  File \"/opt/anaconda3/lib/python3.9/site-packages/seaborn/_decorators.py\", line 46, in inner_f\n",
      "    return f(**kwargs)\n",
      "  File \"/opt/anaconda3/lib/python3.9/site-packages/seaborn/matrix.py\", line 553, in heatmap\n",
      "    plotter.plot(ax, cbar_ax, kwargs)\n",
      "  File \"/opt/anaconda3/lib/python3.9/site-packages/seaborn/matrix.py\", line 336, in plot\n",
      "    _draw_figure(ax.figure)\n",
      "  File \"/opt/anaconda3/lib/python3.9/site-packages/seaborn/utils.py\", line 95, in _draw_figure\n",
      "    fig.canvas.draw()\n",
      "  File \"/opt/anaconda3/lib/python3.9/site-packages/matplotlib/backends/backend_agg.py\", line 436, in draw\n",
      "    self.figure.draw(self.renderer)\n",
      "  File \"/opt/anaconda3/lib/python3.9/site-packages/matplotlib/artist.py\", line 73, in draw_wrapper\n",
      "    result = draw(artist, renderer, *args, **kwargs)\n",
      "  File \"/opt/anaconda3/lib/python3.9/site-packages/matplotlib/artist.py\", line 50, in draw_wrapper\n",
      "    return draw(artist, renderer)\n",
      "  File \"/opt/anaconda3/lib/python3.9/site-packages/matplotlib/figure.py\", line 2837, in draw\n",
      "    mimage._draw_list_compositing_images(\n",
      "  File \"/opt/anaconda3/lib/python3.9/site-packages/matplotlib/image.py\", line 132, in _draw_list_compositing_images\n",
      "    a.draw(renderer)\n",
      "  File \"/opt/anaconda3/lib/python3.9/site-packages/matplotlib/artist.py\", line 50, in draw_wrapper\n",
      "    return draw(artist, renderer)\n",
      "  File \"/opt/anaconda3/lib/python3.9/site-packages/matplotlib/axes/_base.py\", line 3091, in draw\n",
      "    mimage._draw_list_compositing_images(\n",
      "  File \"/opt/anaconda3/lib/python3.9/site-packages/matplotlib/image.py\", line 132, in _draw_list_compositing_images\n",
      "    a.draw(renderer)\n",
      "  File \"/opt/anaconda3/lib/python3.9/site-packages/matplotlib/artist.py\", line 50, in draw_wrapper\n",
      "    return draw(artist, renderer)\n",
      "  File \"/opt/anaconda3/lib/python3.9/site-packages/matplotlib/collections.py\", line 2199, in draw\n",
      "    renderer.draw_quad_mesh(\n",
      "KeyboardInterrupt\n",
      "\n",
      "During handling of the above exception, another exception occurred:\n",
      "\n",
      "Traceback (most recent call last):\n",
      "  File \"/opt/anaconda3/lib/python3.9/site-packages/IPython/core/interactiveshell.py\", line 2077, in showtraceback\n",
      "    stb = value._render_traceback_()\n",
      "AttributeError: 'KeyboardInterrupt' object has no attribute '_render_traceback_'\n",
      "\n",
      "During handling of the above exception, another exception occurred:\n",
      "\n",
      "Traceback (most recent call last):\n",
      "  File \"/opt/anaconda3/lib/python3.9/site-packages/IPython/core/ultratb.py\", line 1101, in get_records\n",
      "    return _fixed_getinnerframes(etb, number_of_lines_of_context, tb_offset)\n",
      "  File \"/opt/anaconda3/lib/python3.9/site-packages/IPython/core/ultratb.py\", line 248, in wrapped\n",
      "    return f(*args, **kwargs)\n",
      "  File \"/opt/anaconda3/lib/python3.9/site-packages/IPython/core/ultratb.py\", line 281, in _fixed_getinnerframes\n",
      "    records = fix_frame_records_filenames(inspect.getinnerframes(etb, context))\n",
      "  File \"/opt/anaconda3/lib/python3.9/inspect.py\", line 1543, in getinnerframes\n",
      "    frameinfo = (tb.tb_frame,) + getframeinfo(tb, context)\n",
      "  File \"/opt/anaconda3/lib/python3.9/inspect.py\", line 1501, in getframeinfo\n",
      "    filename = getsourcefile(frame) or getfile(frame)\n",
      "  File \"/opt/anaconda3/lib/python3.9/inspect.py\", line 709, in getsourcefile\n",
      "    if getattr(getmodule(object, filename), '__loader__', None) is not None:\n",
      "  File \"/opt/anaconda3/lib/python3.9/inspect.py\", line 752, in getmodule\n",
      "    f = getabsfile(module)\n",
      "  File \"/opt/anaconda3/lib/python3.9/inspect.py\", line 722, in getabsfile\n",
      "    return os.path.normcase(os.path.abspath(_filename))\n",
      "  File \"/opt/anaconda3/lib/python3.9/posixpath.py\", line 382, in abspath\n",
      "    return normpath(path)\n",
      "  File \"/opt/anaconda3/lib/python3.9/posixpath.py\", line 363, in normpath\n",
      "    new_comps.append(comp)\n",
      "KeyboardInterrupt\n"
     ]
    },
    {
     "ename": "TypeError",
     "evalue": "object of type 'NoneType' has no len()",
     "output_type": "error",
     "traceback": [
      "\u001b[0;31m---------------------------------------------------------------------------\u001b[0m",
      "\u001b[0;31mKeyboardInterrupt\u001b[0m                         Traceback (most recent call last)",
      "    \u001b[0;31m[... skipping hidden 1 frame]\u001b[0m\n",
      "\u001b[0;32m/var/folders/ch/k30xkynn5hj_j3mq25frp2r80000gn/T/ipykernel_66907/3029817779.py\u001b[0m in \u001b[0;36m<module>\u001b[0;34m\u001b[0m\n\u001b[0;32m----> 1\u001b[0;31m \u001b[0msns\u001b[0m\u001b[0;34m.\u001b[0m\u001b[0mheatmap\u001b[0m\u001b[0;34m(\u001b[0m\u001b[0mfinal_df\u001b[0m\u001b[0;34m,\u001b[0m \u001b[0mannot\u001b[0m\u001b[0;34m=\u001b[0m\u001b[0;32mTrue\u001b[0m\u001b[0;34m,\u001b[0m \u001b[0mcmap\u001b[0m\u001b[0;34m=\u001b[0m\u001b[0;34m'coolwarm'\u001b[0m\u001b[0;34m)\u001b[0m\u001b[0;34m\u001b[0m\u001b[0;34m\u001b[0m\u001b[0m\n\u001b[0m",
      "\u001b[0;32m/opt/anaconda3/lib/python3.9/site-packages/seaborn/_decorators.py\u001b[0m in \u001b[0;36minner_f\u001b[0;34m(*args, **kwargs)\u001b[0m\n\u001b[1;32m     45\u001b[0m         \u001b[0mkwargs\u001b[0m\u001b[0;34m.\u001b[0m\u001b[0mupdate\u001b[0m\u001b[0;34m(\u001b[0m\u001b[0;34m{\u001b[0m\u001b[0mk\u001b[0m\u001b[0;34m:\u001b[0m \u001b[0marg\u001b[0m \u001b[0;32mfor\u001b[0m \u001b[0mk\u001b[0m\u001b[0;34m,\u001b[0m \u001b[0marg\u001b[0m \u001b[0;32min\u001b[0m \u001b[0mzip\u001b[0m\u001b[0;34m(\u001b[0m\u001b[0msig\u001b[0m\u001b[0;34m.\u001b[0m\u001b[0mparameters\u001b[0m\u001b[0;34m,\u001b[0m \u001b[0margs\u001b[0m\u001b[0;34m)\u001b[0m\u001b[0;34m}\u001b[0m\u001b[0;34m)\u001b[0m\u001b[0;34m\u001b[0m\u001b[0;34m\u001b[0m\u001b[0m\n\u001b[0;32m---> 46\u001b[0;31m         \u001b[0;32mreturn\u001b[0m \u001b[0mf\u001b[0m\u001b[0;34m(\u001b[0m\u001b[0;34m**\u001b[0m\u001b[0mkwargs\u001b[0m\u001b[0;34m)\u001b[0m\u001b[0;34m\u001b[0m\u001b[0;34m\u001b[0m\u001b[0m\n\u001b[0m\u001b[1;32m     47\u001b[0m     \u001b[0;32mreturn\u001b[0m \u001b[0minner_f\u001b[0m\u001b[0;34m\u001b[0m\u001b[0;34m\u001b[0m\u001b[0m\n",
      "\u001b[0;32m/opt/anaconda3/lib/python3.9/site-packages/seaborn/matrix.py\u001b[0m in \u001b[0;36mheatmap\u001b[0;34m(data, vmin, vmax, cmap, center, robust, annot, fmt, annot_kws, linewidths, linecolor, cbar, cbar_kws, cbar_ax, square, xticklabels, yticklabels, mask, ax, **kwargs)\u001b[0m\n\u001b[1;32m    552\u001b[0m         \u001b[0max\u001b[0m\u001b[0;34m.\u001b[0m\u001b[0mset_aspect\u001b[0m\u001b[0;34m(\u001b[0m\u001b[0;34m\"equal\"\u001b[0m\u001b[0;34m)\u001b[0m\u001b[0;34m\u001b[0m\u001b[0;34m\u001b[0m\u001b[0m\n\u001b[0;32m--> 553\u001b[0;31m     \u001b[0mplotter\u001b[0m\u001b[0;34m.\u001b[0m\u001b[0mplot\u001b[0m\u001b[0;34m(\u001b[0m\u001b[0max\u001b[0m\u001b[0;34m,\u001b[0m \u001b[0mcbar_ax\u001b[0m\u001b[0;34m,\u001b[0m \u001b[0mkwargs\u001b[0m\u001b[0;34m)\u001b[0m\u001b[0;34m\u001b[0m\u001b[0;34m\u001b[0m\u001b[0m\n\u001b[0m\u001b[1;32m    554\u001b[0m     \u001b[0;32mreturn\u001b[0m \u001b[0max\u001b[0m\u001b[0;34m\u001b[0m\u001b[0;34m\u001b[0m\u001b[0m\n",
      "\u001b[0;32m/opt/anaconda3/lib/python3.9/site-packages/seaborn/matrix.py\u001b[0m in \u001b[0;36mplot\u001b[0;34m(self, ax, cax, kws)\u001b[0m\n\u001b[1;32m    335\u001b[0m         \u001b[0;31m# Possibly rotate them if they overlap\u001b[0m\u001b[0;34m\u001b[0m\u001b[0;34m\u001b[0m\u001b[0m\n\u001b[0;32m--> 336\u001b[0;31m         \u001b[0m_draw_figure\u001b[0m\u001b[0;34m(\u001b[0m\u001b[0max\u001b[0m\u001b[0;34m.\u001b[0m\u001b[0mfigure\u001b[0m\u001b[0;34m)\u001b[0m\u001b[0;34m\u001b[0m\u001b[0;34m\u001b[0m\u001b[0m\n\u001b[0m\u001b[1;32m    337\u001b[0m \u001b[0;34m\u001b[0m\u001b[0m\n",
      "\u001b[0;32m/opt/anaconda3/lib/python3.9/site-packages/seaborn/utils.py\u001b[0m in \u001b[0;36m_draw_figure\u001b[0;34m(fig)\u001b[0m\n\u001b[1;32m     94\u001b[0m     \u001b[0;31m# See https://github.com/matplotlib/matplotlib/issues/19197 for context\u001b[0m\u001b[0;34m\u001b[0m\u001b[0;34m\u001b[0m\u001b[0m\n\u001b[0;32m---> 95\u001b[0;31m     \u001b[0mfig\u001b[0m\u001b[0;34m.\u001b[0m\u001b[0mcanvas\u001b[0m\u001b[0;34m.\u001b[0m\u001b[0mdraw\u001b[0m\u001b[0;34m(\u001b[0m\u001b[0;34m)\u001b[0m\u001b[0;34m\u001b[0m\u001b[0;34m\u001b[0m\u001b[0m\n\u001b[0m\u001b[1;32m     96\u001b[0m     \u001b[0;32mif\u001b[0m \u001b[0mfig\u001b[0m\u001b[0;34m.\u001b[0m\u001b[0mstale\u001b[0m\u001b[0;34m:\u001b[0m\u001b[0;34m\u001b[0m\u001b[0;34m\u001b[0m\u001b[0m\n",
      "\u001b[0;32m/opt/anaconda3/lib/python3.9/site-packages/matplotlib/backends/backend_agg.py\u001b[0m in \u001b[0;36mdraw\u001b[0;34m(self)\u001b[0m\n\u001b[1;32m    435\u001b[0m               else nullcontext()):\n\u001b[0;32m--> 436\u001b[0;31m             \u001b[0mself\u001b[0m\u001b[0;34m.\u001b[0m\u001b[0mfigure\u001b[0m\u001b[0;34m.\u001b[0m\u001b[0mdraw\u001b[0m\u001b[0;34m(\u001b[0m\u001b[0mself\u001b[0m\u001b[0;34m.\u001b[0m\u001b[0mrenderer\u001b[0m\u001b[0;34m)\u001b[0m\u001b[0;34m\u001b[0m\u001b[0;34m\u001b[0m\u001b[0m\n\u001b[0m\u001b[1;32m    437\u001b[0m             \u001b[0;31m# A GUI class may be need to update a window using this draw, so\u001b[0m\u001b[0;34m\u001b[0m\u001b[0;34m\u001b[0m\u001b[0m\n",
      "\u001b[0;32m/opt/anaconda3/lib/python3.9/site-packages/matplotlib/artist.py\u001b[0m in \u001b[0;36mdraw_wrapper\u001b[0;34m(artist, renderer, *args, **kwargs)\u001b[0m\n\u001b[1;32m     72\u001b[0m     \u001b[0;32mdef\u001b[0m \u001b[0mdraw_wrapper\u001b[0m\u001b[0;34m(\u001b[0m\u001b[0martist\u001b[0m\u001b[0;34m,\u001b[0m \u001b[0mrenderer\u001b[0m\u001b[0;34m,\u001b[0m \u001b[0;34m*\u001b[0m\u001b[0margs\u001b[0m\u001b[0;34m,\u001b[0m \u001b[0;34m**\u001b[0m\u001b[0mkwargs\u001b[0m\u001b[0;34m)\u001b[0m\u001b[0;34m:\u001b[0m\u001b[0;34m\u001b[0m\u001b[0;34m\u001b[0m\u001b[0m\n\u001b[0;32m---> 73\u001b[0;31m         \u001b[0mresult\u001b[0m \u001b[0;34m=\u001b[0m \u001b[0mdraw\u001b[0m\u001b[0;34m(\u001b[0m\u001b[0martist\u001b[0m\u001b[0;34m,\u001b[0m \u001b[0mrenderer\u001b[0m\u001b[0;34m,\u001b[0m \u001b[0;34m*\u001b[0m\u001b[0margs\u001b[0m\u001b[0;34m,\u001b[0m \u001b[0;34m**\u001b[0m\u001b[0mkwargs\u001b[0m\u001b[0;34m)\u001b[0m\u001b[0;34m\u001b[0m\u001b[0;34m\u001b[0m\u001b[0m\n\u001b[0m\u001b[1;32m     74\u001b[0m         \u001b[0;32mif\u001b[0m \u001b[0mrenderer\u001b[0m\u001b[0;34m.\u001b[0m\u001b[0m_rasterizing\u001b[0m\u001b[0;34m:\u001b[0m\u001b[0;34m\u001b[0m\u001b[0;34m\u001b[0m\u001b[0m\n",
      "\u001b[0;32m/opt/anaconda3/lib/python3.9/site-packages/matplotlib/artist.py\u001b[0m in \u001b[0;36mdraw_wrapper\u001b[0;34m(artist, renderer)\u001b[0m\n\u001b[1;32m     49\u001b[0m \u001b[0;34m\u001b[0m\u001b[0m\n\u001b[0;32m---> 50\u001b[0;31m             \u001b[0;32mreturn\u001b[0m \u001b[0mdraw\u001b[0m\u001b[0;34m(\u001b[0m\u001b[0martist\u001b[0m\u001b[0;34m,\u001b[0m \u001b[0mrenderer\u001b[0m\u001b[0;34m)\u001b[0m\u001b[0;34m\u001b[0m\u001b[0;34m\u001b[0m\u001b[0m\n\u001b[0m\u001b[1;32m     51\u001b[0m         \u001b[0;32mfinally\u001b[0m\u001b[0;34m:\u001b[0m\u001b[0;34m\u001b[0m\u001b[0;34m\u001b[0m\u001b[0m\n",
      "\u001b[0;32m/opt/anaconda3/lib/python3.9/site-packages/matplotlib/figure.py\u001b[0m in \u001b[0;36mdraw\u001b[0;34m(self, renderer)\u001b[0m\n\u001b[1;32m   2836\u001b[0m             \u001b[0mself\u001b[0m\u001b[0;34m.\u001b[0m\u001b[0mpatch\u001b[0m\u001b[0;34m.\u001b[0m\u001b[0mdraw\u001b[0m\u001b[0;34m(\u001b[0m\u001b[0mrenderer\u001b[0m\u001b[0;34m)\u001b[0m\u001b[0;34m\u001b[0m\u001b[0;34m\u001b[0m\u001b[0m\n\u001b[0;32m-> 2837\u001b[0;31m             mimage._draw_list_compositing_images(\n\u001b[0m\u001b[1;32m   2838\u001b[0m                 renderer, self, artists, self.suppressComposite)\n",
      "\u001b[0;32m/opt/anaconda3/lib/python3.9/site-packages/matplotlib/image.py\u001b[0m in \u001b[0;36m_draw_list_compositing_images\u001b[0;34m(renderer, parent, artists, suppress_composite)\u001b[0m\n\u001b[1;32m    131\u001b[0m         \u001b[0;32mfor\u001b[0m \u001b[0ma\u001b[0m \u001b[0;32min\u001b[0m \u001b[0martists\u001b[0m\u001b[0;34m:\u001b[0m\u001b[0;34m\u001b[0m\u001b[0;34m\u001b[0m\u001b[0m\n\u001b[0;32m--> 132\u001b[0;31m             \u001b[0ma\u001b[0m\u001b[0;34m.\u001b[0m\u001b[0mdraw\u001b[0m\u001b[0;34m(\u001b[0m\u001b[0mrenderer\u001b[0m\u001b[0;34m)\u001b[0m\u001b[0;34m\u001b[0m\u001b[0;34m\u001b[0m\u001b[0m\n\u001b[0m\u001b[1;32m    133\u001b[0m     \u001b[0;32melse\u001b[0m\u001b[0;34m:\u001b[0m\u001b[0;34m\u001b[0m\u001b[0;34m\u001b[0m\u001b[0m\n",
      "\u001b[0;32m/opt/anaconda3/lib/python3.9/site-packages/matplotlib/artist.py\u001b[0m in \u001b[0;36mdraw_wrapper\u001b[0;34m(artist, renderer)\u001b[0m\n\u001b[1;32m     49\u001b[0m \u001b[0;34m\u001b[0m\u001b[0m\n\u001b[0;32m---> 50\u001b[0;31m             \u001b[0;32mreturn\u001b[0m \u001b[0mdraw\u001b[0m\u001b[0;34m(\u001b[0m\u001b[0martist\u001b[0m\u001b[0;34m,\u001b[0m \u001b[0mrenderer\u001b[0m\u001b[0;34m)\u001b[0m\u001b[0;34m\u001b[0m\u001b[0;34m\u001b[0m\u001b[0m\n\u001b[0m\u001b[1;32m     51\u001b[0m         \u001b[0;32mfinally\u001b[0m\u001b[0;34m:\u001b[0m\u001b[0;34m\u001b[0m\u001b[0;34m\u001b[0m\u001b[0m\n",
      "\u001b[0;32m/opt/anaconda3/lib/python3.9/site-packages/matplotlib/axes/_base.py\u001b[0m in \u001b[0;36mdraw\u001b[0;34m(self, renderer)\u001b[0m\n\u001b[1;32m   3090\u001b[0m \u001b[0;34m\u001b[0m\u001b[0m\n\u001b[0;32m-> 3091\u001b[0;31m         mimage._draw_list_compositing_images(\n\u001b[0m\u001b[1;32m   3092\u001b[0m             renderer, self, artists, self.figure.suppressComposite)\n",
      "\u001b[0;32m/opt/anaconda3/lib/python3.9/site-packages/matplotlib/image.py\u001b[0m in \u001b[0;36m_draw_list_compositing_images\u001b[0;34m(renderer, parent, artists, suppress_composite)\u001b[0m\n\u001b[1;32m    131\u001b[0m         \u001b[0;32mfor\u001b[0m \u001b[0ma\u001b[0m \u001b[0;32min\u001b[0m \u001b[0martists\u001b[0m\u001b[0;34m:\u001b[0m\u001b[0;34m\u001b[0m\u001b[0;34m\u001b[0m\u001b[0m\n\u001b[0;32m--> 132\u001b[0;31m             \u001b[0ma\u001b[0m\u001b[0;34m.\u001b[0m\u001b[0mdraw\u001b[0m\u001b[0;34m(\u001b[0m\u001b[0mrenderer\u001b[0m\u001b[0;34m)\u001b[0m\u001b[0;34m\u001b[0m\u001b[0;34m\u001b[0m\u001b[0m\n\u001b[0m\u001b[1;32m    133\u001b[0m     \u001b[0;32melse\u001b[0m\u001b[0;34m:\u001b[0m\u001b[0;34m\u001b[0m\u001b[0;34m\u001b[0m\u001b[0m\n",
      "\u001b[0;32m/opt/anaconda3/lib/python3.9/site-packages/matplotlib/artist.py\u001b[0m in \u001b[0;36mdraw_wrapper\u001b[0;34m(artist, renderer)\u001b[0m\n\u001b[1;32m     49\u001b[0m \u001b[0;34m\u001b[0m\u001b[0m\n\u001b[0;32m---> 50\u001b[0;31m             \u001b[0;32mreturn\u001b[0m \u001b[0mdraw\u001b[0m\u001b[0;34m(\u001b[0m\u001b[0martist\u001b[0m\u001b[0;34m,\u001b[0m \u001b[0mrenderer\u001b[0m\u001b[0;34m)\u001b[0m\u001b[0;34m\u001b[0m\u001b[0;34m\u001b[0m\u001b[0m\n\u001b[0m\u001b[1;32m     51\u001b[0m         \u001b[0;32mfinally\u001b[0m\u001b[0;34m:\u001b[0m\u001b[0;34m\u001b[0m\u001b[0;34m\u001b[0m\u001b[0m\n",
      "\u001b[0;32m/opt/anaconda3/lib/python3.9/site-packages/matplotlib/collections.py\u001b[0m in \u001b[0;36mdraw\u001b[0;34m(self, renderer)\u001b[0m\n\u001b[1;32m   2198\u001b[0m         \u001b[0;32melse\u001b[0m\u001b[0;34m:\u001b[0m\u001b[0;34m\u001b[0m\u001b[0;34m\u001b[0m\u001b[0m\n\u001b[0;32m-> 2199\u001b[0;31m             renderer.draw_quad_mesh(\n\u001b[0m\u001b[1;32m   2200\u001b[0m                 \u001b[0mgc\u001b[0m\u001b[0;34m,\u001b[0m \u001b[0mtransform\u001b[0m\u001b[0;34m.\u001b[0m\u001b[0mfrozen\u001b[0m\u001b[0;34m(\u001b[0m\u001b[0;34m)\u001b[0m\u001b[0;34m,\u001b[0m\u001b[0;34m\u001b[0m\u001b[0;34m\u001b[0m\u001b[0m\n",
      "\u001b[0;31mKeyboardInterrupt\u001b[0m: ",
      "\nDuring handling of the above exception, another exception occurred:\n",
      "\u001b[0;31mAttributeError\u001b[0m                            Traceback (most recent call last)",
      "\u001b[0;32m/opt/anaconda3/lib/python3.9/site-packages/IPython/core/interactiveshell.py\u001b[0m in \u001b[0;36mshowtraceback\u001b[0;34m(self, exc_tuple, filename, tb_offset, exception_only, running_compiled_code)\u001b[0m\n\u001b[1;32m   2076\u001b[0m                         \u001b[0;31m# in the engines. This should return a list of strings.\u001b[0m\u001b[0;34m\u001b[0m\u001b[0;34m\u001b[0m\u001b[0m\n\u001b[0;32m-> 2077\u001b[0;31m                         \u001b[0mstb\u001b[0m \u001b[0;34m=\u001b[0m \u001b[0mvalue\u001b[0m\u001b[0;34m.\u001b[0m\u001b[0m_render_traceback_\u001b[0m\u001b[0;34m(\u001b[0m\u001b[0;34m)\u001b[0m\u001b[0;34m\u001b[0m\u001b[0;34m\u001b[0m\u001b[0m\n\u001b[0m\u001b[1;32m   2078\u001b[0m                     \u001b[0;32mexcept\u001b[0m \u001b[0mException\u001b[0m\u001b[0;34m:\u001b[0m\u001b[0;34m\u001b[0m\u001b[0;34m\u001b[0m\u001b[0m\n",
      "\u001b[0;31mAttributeError\u001b[0m: 'KeyboardInterrupt' object has no attribute '_render_traceback_'",
      "\nDuring handling of the above exception, another exception occurred:\n",
      "\u001b[0;31mTypeError\u001b[0m                                 Traceback (most recent call last)",
      "    \u001b[0;31m[... skipping hidden 1 frame]\u001b[0m\n",
      "\u001b[0;32m/opt/anaconda3/lib/python3.9/site-packages/IPython/core/interactiveshell.py\u001b[0m in \u001b[0;36mshowtraceback\u001b[0;34m(self, exc_tuple, filename, tb_offset, exception_only, running_compiled_code)\u001b[0m\n\u001b[1;32m   2077\u001b[0m                         \u001b[0mstb\u001b[0m \u001b[0;34m=\u001b[0m \u001b[0mvalue\u001b[0m\u001b[0;34m.\u001b[0m\u001b[0m_render_traceback_\u001b[0m\u001b[0;34m(\u001b[0m\u001b[0;34m)\u001b[0m\u001b[0;34m\u001b[0m\u001b[0;34m\u001b[0m\u001b[0m\n\u001b[1;32m   2078\u001b[0m                     \u001b[0;32mexcept\u001b[0m \u001b[0mException\u001b[0m\u001b[0;34m:\u001b[0m\u001b[0;34m\u001b[0m\u001b[0;34m\u001b[0m\u001b[0m\n\u001b[0;32m-> 2079\u001b[0;31m                         stb = self.InteractiveTB.structured_traceback(etype,\n\u001b[0m\u001b[1;32m   2080\u001b[0m                                             value, tb, tb_offset=tb_offset)\n\u001b[1;32m   2081\u001b[0m \u001b[0;34m\u001b[0m\u001b[0m\n",
      "\u001b[0;32m/opt/anaconda3/lib/python3.9/site-packages/IPython/core/ultratb.py\u001b[0m in \u001b[0;36mstructured_traceback\u001b[0;34m(self, etype, value, tb, tb_offset, number_of_lines_of_context)\u001b[0m\n\u001b[1;32m   1365\u001b[0m         \u001b[0;32melse\u001b[0m\u001b[0;34m:\u001b[0m\u001b[0;34m\u001b[0m\u001b[0;34m\u001b[0m\u001b[0m\n\u001b[1;32m   1366\u001b[0m             \u001b[0mself\u001b[0m\u001b[0;34m.\u001b[0m\u001b[0mtb\u001b[0m \u001b[0;34m=\u001b[0m \u001b[0mtb\u001b[0m\u001b[0;34m\u001b[0m\u001b[0;34m\u001b[0m\u001b[0m\n\u001b[0;32m-> 1367\u001b[0;31m         return FormattedTB.structured_traceback(\n\u001b[0m\u001b[1;32m   1368\u001b[0m             self, etype, value, tb, tb_offset, number_of_lines_of_context)\n\u001b[1;32m   1369\u001b[0m \u001b[0;34m\u001b[0m\u001b[0m\n",
      "\u001b[0;32m/opt/anaconda3/lib/python3.9/site-packages/IPython/core/ultratb.py\u001b[0m in \u001b[0;36mstructured_traceback\u001b[0;34m(self, etype, value, tb, tb_offset, number_of_lines_of_context)\u001b[0m\n\u001b[1;32m   1265\u001b[0m         \u001b[0;32mif\u001b[0m \u001b[0mmode\u001b[0m \u001b[0;32min\u001b[0m \u001b[0mself\u001b[0m\u001b[0;34m.\u001b[0m\u001b[0mverbose_modes\u001b[0m\u001b[0;34m:\u001b[0m\u001b[0;34m\u001b[0m\u001b[0;34m\u001b[0m\u001b[0m\n\u001b[1;32m   1266\u001b[0m             \u001b[0;31m# Verbose modes need a full traceback\u001b[0m\u001b[0;34m\u001b[0m\u001b[0;34m\u001b[0m\u001b[0m\n\u001b[0;32m-> 1267\u001b[0;31m             return VerboseTB.structured_traceback(\n\u001b[0m\u001b[1;32m   1268\u001b[0m                 \u001b[0mself\u001b[0m\u001b[0;34m,\u001b[0m \u001b[0metype\u001b[0m\u001b[0;34m,\u001b[0m \u001b[0mvalue\u001b[0m\u001b[0;34m,\u001b[0m \u001b[0mtb\u001b[0m\u001b[0;34m,\u001b[0m \u001b[0mtb_offset\u001b[0m\u001b[0;34m,\u001b[0m \u001b[0mnumber_of_lines_of_context\u001b[0m\u001b[0;34m\u001b[0m\u001b[0;34m\u001b[0m\u001b[0m\n\u001b[1;32m   1269\u001b[0m             )\n",
      "\u001b[0;32m/opt/anaconda3/lib/python3.9/site-packages/IPython/core/ultratb.py\u001b[0m in \u001b[0;36mstructured_traceback\u001b[0;34m(self, etype, evalue, etb, tb_offset, number_of_lines_of_context)\u001b[0m\n\u001b[1;32m   1122\u001b[0m         \u001b[0;34m\"\"\"Return a nice text document describing the traceback.\"\"\"\u001b[0m\u001b[0;34m\u001b[0m\u001b[0;34m\u001b[0m\u001b[0m\n\u001b[1;32m   1123\u001b[0m \u001b[0;34m\u001b[0m\u001b[0m\n\u001b[0;32m-> 1124\u001b[0;31m         formatted_exception = self.format_exception_as_a_whole(etype, evalue, etb, number_of_lines_of_context,\n\u001b[0m\u001b[1;32m   1125\u001b[0m                                                                tb_offset)\n\u001b[1;32m   1126\u001b[0m \u001b[0;34m\u001b[0m\u001b[0m\n",
      "\u001b[0;32m/opt/anaconda3/lib/python3.9/site-packages/IPython/core/ultratb.py\u001b[0m in \u001b[0;36mformat_exception_as_a_whole\u001b[0;34m(self, etype, evalue, etb, number_of_lines_of_context, tb_offset)\u001b[0m\n\u001b[1;32m   1080\u001b[0m \u001b[0;34m\u001b[0m\u001b[0m\n\u001b[1;32m   1081\u001b[0m \u001b[0;34m\u001b[0m\u001b[0m\n\u001b[0;32m-> 1082\u001b[0;31m         \u001b[0mlast_unique\u001b[0m\u001b[0;34m,\u001b[0m \u001b[0mrecursion_repeat\u001b[0m \u001b[0;34m=\u001b[0m \u001b[0mfind_recursion\u001b[0m\u001b[0;34m(\u001b[0m\u001b[0morig_etype\u001b[0m\u001b[0;34m,\u001b[0m \u001b[0mevalue\u001b[0m\u001b[0;34m,\u001b[0m \u001b[0mrecords\u001b[0m\u001b[0;34m)\u001b[0m\u001b[0;34m\u001b[0m\u001b[0;34m\u001b[0m\u001b[0m\n\u001b[0m\u001b[1;32m   1083\u001b[0m \u001b[0;34m\u001b[0m\u001b[0m\n\u001b[1;32m   1084\u001b[0m         \u001b[0mframes\u001b[0m \u001b[0;34m=\u001b[0m \u001b[0mself\u001b[0m\u001b[0;34m.\u001b[0m\u001b[0mformat_records\u001b[0m\u001b[0;34m(\u001b[0m\u001b[0mrecords\u001b[0m\u001b[0;34m,\u001b[0m \u001b[0mlast_unique\u001b[0m\u001b[0;34m,\u001b[0m \u001b[0mrecursion_repeat\u001b[0m\u001b[0;34m)\u001b[0m\u001b[0;34m\u001b[0m\u001b[0;34m\u001b[0m\u001b[0m\n",
      "\u001b[0;32m/opt/anaconda3/lib/python3.9/site-packages/IPython/core/ultratb.py\u001b[0m in \u001b[0;36mfind_recursion\u001b[0;34m(etype, value, records)\u001b[0m\n\u001b[1;32m    380\u001b[0m     \u001b[0;31m# first frame (from in to out) that looks different.\u001b[0m\u001b[0;34m\u001b[0m\u001b[0;34m\u001b[0m\u001b[0m\n\u001b[1;32m    381\u001b[0m     \u001b[0;32mif\u001b[0m \u001b[0;32mnot\u001b[0m \u001b[0mis_recursion_error\u001b[0m\u001b[0;34m(\u001b[0m\u001b[0metype\u001b[0m\u001b[0;34m,\u001b[0m \u001b[0mvalue\u001b[0m\u001b[0;34m,\u001b[0m \u001b[0mrecords\u001b[0m\u001b[0;34m)\u001b[0m\u001b[0;34m:\u001b[0m\u001b[0;34m\u001b[0m\u001b[0;34m\u001b[0m\u001b[0m\n\u001b[0;32m--> 382\u001b[0;31m         \u001b[0;32mreturn\u001b[0m \u001b[0mlen\u001b[0m\u001b[0;34m(\u001b[0m\u001b[0mrecords\u001b[0m\u001b[0;34m)\u001b[0m\u001b[0;34m,\u001b[0m \u001b[0;36m0\u001b[0m\u001b[0;34m\u001b[0m\u001b[0;34m\u001b[0m\u001b[0m\n\u001b[0m\u001b[1;32m    383\u001b[0m \u001b[0;34m\u001b[0m\u001b[0m\n\u001b[1;32m    384\u001b[0m     \u001b[0;31m# Select filename, lineno, func_name to track frames with\u001b[0m\u001b[0;34m\u001b[0m\u001b[0;34m\u001b[0m\u001b[0m\n",
      "\u001b[0;31mTypeError\u001b[0m: object of type 'NoneType' has no len()"
     ]
    },
    {
     "name": "stderr",
     "output_type": "stream",
     "text": [
      "ERROR:root:Internal Python error in the inspect module.\n",
      "Below is the traceback from this internal error.\n",
      "\n"
     ]
    },
    {
     "name": "stdout",
     "output_type": "stream",
     "text": [
      "Error in callback <function flush_figures at 0x7fb15b2f9280> (for post_execute):\n",
      "Traceback (most recent call last):\n",
      "  File \"/opt/anaconda3/lib/python3.9/site-packages/IPython/core/events.py\", line 89, in trigger\n",
      "    func(*args, **kwargs)\n",
      "  File \"/opt/anaconda3/lib/python3.9/site-packages/matplotlib_inline/backend_inline.py\", line 126, in flush_figures\n",
      "    return show(True)\n",
      "  File \"/opt/anaconda3/lib/python3.9/site-packages/matplotlib_inline/backend_inline.py\", line 90, in show\n",
      "    display(\n",
      "  File \"/opt/anaconda3/lib/python3.9/site-packages/IPython/core/display.py\", line 320, in display\n",
      "    format_dict, md_dict = format(obj, include=include, exclude=exclude)\n",
      "  File \"/opt/anaconda3/lib/python3.9/site-packages/IPython/core/formatters.py\", line 180, in format\n",
      "    data = formatter(obj)\n",
      "  File \"/opt/anaconda3/lib/python3.9/site-packages/decorator.py\", line 232, in fun\n",
      "    return caller(func, *(extras + args), **kw)\n",
      "  File \"/opt/anaconda3/lib/python3.9/site-packages/IPython/core/formatters.py\", line 224, in catch_format_error\n",
      "    r = method(self, *args, **kwargs)\n",
      "  File \"/opt/anaconda3/lib/python3.9/site-packages/IPython/core/formatters.py\", line 341, in __call__\n",
      "    return printer(obj)\n",
      "  File \"/opt/anaconda3/lib/python3.9/site-packages/IPython/core/pylabtools.py\", line 151, in print_figure\n",
      "    fig.canvas.print_figure(bytes_io, **kw)\n",
      "  File \"/opt/anaconda3/lib/python3.9/site-packages/matplotlib/backend_bases.py\", line 2295, in print_figure\n",
      "    self.figure.draw(renderer)\n",
      "  File \"/opt/anaconda3/lib/python3.9/site-packages/matplotlib/artist.py\", line 73, in draw_wrapper\n",
      "    result = draw(artist, renderer, *args, **kwargs)\n",
      "  File \"/opt/anaconda3/lib/python3.9/site-packages/matplotlib/artist.py\", line 50, in draw_wrapper\n",
      "    return draw(artist, renderer)\n",
      "  File \"/opt/anaconda3/lib/python3.9/site-packages/matplotlib/figure.py\", line 2837, in draw\n",
      "    mimage._draw_list_compositing_images(\n",
      "  File \"/opt/anaconda3/lib/python3.9/site-packages/matplotlib/image.py\", line 132, in _draw_list_compositing_images\n",
      "    a.draw(renderer)\n",
      "  File \"/opt/anaconda3/lib/python3.9/site-packages/matplotlib/artist.py\", line 50, in draw_wrapper\n",
      "    return draw(artist, renderer)\n",
      "  File \"/opt/anaconda3/lib/python3.9/site-packages/matplotlib/axes/_base.py\", line 3091, in draw\n",
      "    mimage._draw_list_compositing_images(\n",
      "  File \"/opt/anaconda3/lib/python3.9/site-packages/matplotlib/image.py\", line 132, in _draw_list_compositing_images\n",
      "    a.draw(renderer)\n",
      "  File \"/opt/anaconda3/lib/python3.9/site-packages/matplotlib/artist.py\", line 50, in draw_wrapper\n",
      "    return draw(artist, renderer)\n",
      "  File \"/opt/anaconda3/lib/python3.9/site-packages/matplotlib/collections.py\", line 2175, in draw\n",
      "    self.update_scalarmappable()\n",
      "  File \"/opt/anaconda3/lib/python3.9/site-packages/matplotlib/collections.py\", line 905, in update_scalarmappable\n",
      "    self._mapped_colors = self.to_rgba(self._A, self._alpha)\n",
      "  File \"/opt/anaconda3/lib/python3.9/site-packages/matplotlib/cm.py\", line 456, in to_rgba\n",
      "    rgba = self.cmap(x, alpha=alpha, bytes=bytes)\n",
      "  File \"/opt/anaconda3/lib/python3.9/site-packages/matplotlib/colors.py\", line 642, in __call__\n",
      "    lut.take(xa, axis=0, mode='clip', out=rgba)\n",
      "KeyboardInterrupt\n",
      "\n",
      "During handling of the above exception, another exception occurred:\n",
      "\n",
      "Traceback (most recent call last):\n",
      "  File \"/opt/anaconda3/lib/python3.9/site-packages/IPython/core/interactiveshell.py\", line 2077, in showtraceback\n",
      "    stb = value._render_traceback_()\n",
      "AttributeError: 'KeyboardInterrupt' object has no attribute '_render_traceback_'\n",
      "\n",
      "During handling of the above exception, another exception occurred:\n",
      "\n",
      "Traceback (most recent call last):\n",
      "  File \"/opt/anaconda3/lib/python3.9/site-packages/IPython/core/ultratb.py\", line 1101, in get_records\n",
      "    return _fixed_getinnerframes(etb, number_of_lines_of_context, tb_offset)\n",
      "  File \"/opt/anaconda3/lib/python3.9/site-packages/IPython/core/ultratb.py\", line 248, in wrapped\n",
      "    return f(*args, **kwargs)\n",
      "  File \"/opt/anaconda3/lib/python3.9/site-packages/IPython/core/ultratb.py\", line 281, in _fixed_getinnerframes\n",
      "    records = fix_frame_records_filenames(inspect.getinnerframes(etb, context))\n",
      "  File \"/opt/anaconda3/lib/python3.9/inspect.py\", line 1543, in getinnerframes\n",
      "    frameinfo = (tb.tb_frame,) + getframeinfo(tb, context)\n",
      "  File \"/opt/anaconda3/lib/python3.9/inspect.py\", line 1505, in getframeinfo\n",
      "    lines, lnum = findsource(frame)\n",
      "  File \"/opt/anaconda3/lib/python3.9/site-packages/IPython/core/ultratb.py\", line 182, in findsource\n",
      "    lines = linecache.getlines(file, globals_dict)\n",
      "  File \"/opt/anaconda3/lib/python3.9/linecache.py\", line 46, in getlines\n",
      "    return updatecache(filename, module_globals)\n",
      "  File \"/opt/anaconda3/lib/python3.9/linecache.py\", line 136, in updatecache\n",
      "    with tokenize.open(fullname) as fp:\n",
      "  File \"/opt/anaconda3/lib/python3.9/tokenize.py\", line 392, in open\n",
      "    buffer = _builtin_open(filename, 'rb')\n",
      "KeyboardInterrupt\n"
     ]
    }
   ],
   "source": [
    "sns.heatmap(final_df, annot=True, cmap='coolwarm')"
   ]
  },
  {
   "cell_type": "markdown",
   "metadata": {
    "tags": []
   },
   "source": [
    "## 3. Train/Test split"
   ]
  },
  {
   "cell_type": "markdown",
   "metadata": {},
   "source": [
    "### A. Columns"
   ]
  },
  {
   "cell_type": "markdown",
   "metadata": {},
   "source": [
    "- y_col"
   ]
  },
  {
   "cell_type": "code",
   "execution_count": 18,
   "metadata": {},
   "outputs": [],
   "source": [
    "y_col = 'price'"
   ]
  },
  {
   "cell_type": "markdown",
   "metadata": {},
   "source": [
    "- x_cols"
   ]
  },
  {
   "cell_type": "code",
   "execution_count": 19,
   "metadata": {},
   "outputs": [],
   "source": [
    "x_cols = list(final_df.columns)"
   ]
  },
  {
   "cell_type": "code",
   "execution_count": 20,
   "metadata": {},
   "outputs": [],
   "source": [
    "x_cols.remove(y_col)"
   ]
  },
  {
   "cell_type": "code",
   "execution_count": 21,
   "metadata": {
    "collapsed": true,
    "jupyter": {
     "outputs_hidden": true
    },
    "tags": []
   },
   "outputs": [
    {
     "data": {
      "text/plain": [
       "['pay',\n",
       " 'overall',\n",
       " 'age',\n",
       " 'height',\n",
       " 'weight',\n",
       " 'skill',\n",
       " 'leftfoot',\n",
       " 'rightfoot',\n",
       " 'ovr_pace',\n",
       " 'ovr_shoot',\n",
       " 'ovr_pass',\n",
       " 'ovr_dribble',\n",
       " 'ovr_defence',\n",
       " 'ovr_physical',\n",
       " 'sprint',\n",
       " 'accel',\n",
       " 'finish',\n",
       " 'shotpower',\n",
       " 'longshot',\n",
       " 'positioning',\n",
       " 'volley',\n",
       " 'penalty',\n",
       " 'shortpass',\n",
       " 'vision',\n",
       " 'cross',\n",
       " 'longpass',\n",
       " 'freekick',\n",
       " 'curve',\n",
       " 'dribble',\n",
       " 'control',\n",
       " 'agility',\n",
       " 'balance',\n",
       " 'reaction',\n",
       " 'marking',\n",
       " 'tackle',\n",
       " 'intercept',\n",
       " 'header',\n",
       " 'sliding',\n",
       " 'strength',\n",
       " 'stamina',\n",
       " 'aggression',\n",
       " 'jump',\n",
       " 'composure',\n",
       " 'gk_diving',\n",
       " 'gk_handle',\n",
       " 'gk_kick',\n",
       " 'gk_reflex',\n",
       " 'gk_positioning',\n",
       " '17LIVE',\n",
       " '18KFA',\n",
       " '18LIVE',\n",
       " '18PLA',\n",
       " '18PLS',\n",
       " '18TOTY',\n",
       " '19KFA',\n",
       " '19LIVE',\n",
       " '19NG',\n",
       " '19PLA',\n",
       " '19PLS',\n",
       " '19TOTS',\n",
       " '19TOTY',\n",
       " '19UCL',\n",
       " '2012KH',\n",
       " '20KL',\n",
       " '20KLB',\n",
       " '20LIVE',\n",
       " '20NG',\n",
       " '20PL',\n",
       " '20TOTN',\n",
       " '20TOTS',\n",
       " '20TOTY',\n",
       " '20UCL',\n",
       " '21KFA',\n",
       " '21KL',\n",
       " '21KLB',\n",
       " '21LIVE',\n",
       " '21NG',\n",
       " '21PL',\n",
       " '21TOTN',\n",
       " '21TOTS',\n",
       " '21TOTY',\n",
       " '21UCL',\n",
       " '22HR',\n",
       " '22KFA',\n",
       " '22KL',\n",
       " '22KLB',\n",
       " '22LIVE',\n",
       " '22NG',\n",
       " '22PL',\n",
       " '22TOTN',\n",
       " '22TOTS',\n",
       " '22TOTY',\n",
       " '22UCL',\n",
       " '23HR',\n",
       " '23KL',\n",
       " '23TOTN',\n",
       " '23TOTS',\n",
       " '23TOTY',\n",
       " 'BOE21',\n",
       " 'BTB',\n",
       " 'BWC',\n",
       " 'CAP',\n",
       " 'CFA',\n",
       " 'COC',\n",
       " 'EBS',\n",
       " 'FA',\n",
       " 'GR',\n",
       " 'HG',\n",
       " 'HOT',\n",
       " 'ICON',\n",
       " 'ICONTM',\n",
       " 'LA',\n",
       " 'LH',\n",
       " 'LN',\n",
       " 'LOL',\n",
       " 'MC',\n",
       " 'MCFC',\n",
       " 'MCICON',\n",
       " 'MOG',\n",
       " 'NHD',\n",
       " 'NTG',\n",
       " 'OTW',\n",
       " 'RMCF',\n",
       " 'RTN',\n",
       " 'SPL',\n",
       " 'TB',\n",
       " 'TC',\n",
       " 'TKI',\n",
       " 'TKL',\n",
       " 'TT',\n",
       " 'UP',\n",
       " 'VTR',\n",
       " 'WC22',\n",
       " 'CAM',\n",
       " 'CB',\n",
       " 'CDM',\n",
       " 'CF',\n",
       " 'CM',\n",
       " 'GK',\n",
       " 'LB',\n",
       " 'LF',\n",
       " 'LM',\n",
       " 'LW',\n",
       " 'LWB',\n",
       " 'RB',\n",
       " 'RF',\n",
       " 'RM',\n",
       " 'RW',\n",
       " 'RWB',\n",
       " 'ST',\n",
       " '건장',\n",
       " '건장(고유)',\n",
       " '마름',\n",
       " '마름(고유)',\n",
       " '보통',\n",
       " '보통(고유)',\n",
       " '레전더리',\n",
       " '월드클래스',\n",
       " '유명선수',\n",
       " '일반선수',\n",
       " '탑클래스',\n",
       " 'others',\n",
       " '네덜란드',\n",
       " '대한민국',\n",
       " '독일',\n",
       " '브라질',\n",
       " '스페인',\n",
       " '아르헨티나',\n",
       " '이탈리아',\n",
       " '잉글랜드',\n",
       " '포르투갈',\n",
       " '프랑스']"
      ]
     },
     "execution_count": 21,
     "metadata": {},
     "output_type": "execute_result"
    }
   ],
   "source": [
    "x_cols"
   ]
  },
  {
   "cell_type": "code",
   "execution_count": 94,
   "metadata": {},
   "outputs": [],
   "source": [
    "X_train, X_test, y_train, y_test = train_test_split(final_df[x_cols], final_df[y_col], test_size=0.2, random_state=10000)"
   ]
  },
  {
   "cell_type": "markdown",
   "metadata": {},
   "source": [
    "## 4. 이상치 제거"
   ]
  },
  {
   "cell_type": "markdown",
   "metadata": {},
   "source": [
    "### 4.1. 이상치 방법"
   ]
  },
  {
   "cell_type": "markdown",
   "metadata": {},
   "source": [
    "#### A. Z-score"
   ]
  },
  {
   "cell_type": "code",
   "execution_count": 42,
   "metadata": {
    "tags": []
   },
   "outputs": [],
   "source": [
    "# Z-점수 계산\n",
    "z_scores = (X_train - np.mean(X_train, axis=0)) / np.std(X_train, axis=0)\n",
    "\n",
    "# 이상치 임계값 설정\n",
    "threshold = 30\n",
    "\n",
    "# 이상치 제거\n",
    "outliers = np.where(np.abs(z_scores) > threshold)"
   ]
  },
  {
   "cell_type": "markdown",
   "metadata": {},
   "source": [
    "#### B. Mahalanobis"
   ]
  },
  {
   "cell_type": "code",
   "execution_count": 82,
   "metadata": {
    "tags": []
   },
   "outputs": [],
   "source": [
    "# Mahalanobis 거리\" 계산\n",
    "mean_vec = np.mean(X_train, axis=0)\n",
    "cov_mat = np.cov(X_train.T)\n",
    "inv_cov_mat = np.linalg.pinv(cov_mat)\n",
    "\n",
    "distances = [mahalanobis(x, mean_vec, inv_cov_mat) for x in X_train.values]\n",
    "\n",
    "# 이상치 임계값 설정\n",
    "threshold = 30"
   ]
  },
  {
   "cell_type": "code",
   "execution_count": 83,
   "metadata": {},
   "outputs": [],
   "source": [
    "# 이상치 제거\n",
    "distances = np.array(distances)\n",
    "outliers = np.where(distances > threshold)"
   ]
  },
  {
   "cell_type": "markdown",
   "metadata": {},
   "source": [
    "### 4.2. 건수 확인 및 제거"
   ]
  },
  {
   "cell_type": "code",
   "execution_count": 84,
   "metadata": {},
   "outputs": [
    {
     "data": {
      "text/plain": [
       "0.014004542013626041"
      ]
     },
     "execution_count": 84,
     "metadata": {},
     "output_type": "execute_result"
    }
   ],
   "source": [
    "len(outliers[0]) / len(X_train)"
   ]
  },
  {
   "cell_type": "code",
   "execution_count": 85,
   "metadata": {
    "tags": []
   },
   "outputs": [],
   "source": [
    "# 이상치 제거된 데이터\n",
    "X_train = np.delete(X_train.values, outliers, axis=0)\n",
    "y_train = np.delete(y_train.values, outliers, axis=0)"
   ]
  },
  {
   "cell_type": "code",
   "execution_count": 86,
   "metadata": {},
   "outputs": [
    {
     "data": {
      "text/plain": [
       "49495"
      ]
     },
     "execution_count": 86,
     "metadata": {},
     "output_type": "execute_result"
    }
   ],
   "source": [
    "len(X_train)"
   ]
  },
  {
   "cell_type": "code",
   "execution_count": 87,
   "metadata": {},
   "outputs": [
    {
     "data": {
      "text/plain": [
       "49495"
      ]
     },
     "execution_count": 87,
     "metadata": {},
     "output_type": "execute_result"
    }
   ],
   "source": [
    "len(y_train)"
   ]
  },
  {
   "cell_type": "markdown",
   "metadata": {},
   "source": [
    "## 4. Scaling"
   ]
  },
  {
   "cell_type": "markdown",
   "metadata": {},
   "source": [
    "### 4.1. X-axis"
   ]
  },
  {
   "cell_type": "code",
   "execution_count": 95,
   "metadata": {},
   "outputs": [],
   "source": [
    "scaler = MinMaxScaler()\n",
    "scaler.fit(X_train)"
   ]
  },
  {
   "cell_type": "code",
   "execution_count": 97,
   "metadata": {},
   "outputs": [],
   "source": [
    "X_train_scaled = scaler.transform(X_train)\n",
    "X_test_scaled = scaler.transform(X_test)"
   ]
  },
  {
   "cell_type": "markdown",
   "metadata": {},
   "source": [
    "### 4.2. Y-axis"
   ]
  },
  {
   "cell_type": "code",
   "execution_count": 155,
   "metadata": {},
   "outputs": [
    {
     "data": {
      "text/plain": [
       "MinMaxScaler()"
      ]
     },
     "execution_count": 155,
     "metadata": {},
     "output_type": "execute_result"
    }
   ],
   "source": [
    "scaler_y = MinMaxScaler()\n",
    "scaler_y.fit(np.array(y_train.values).reshape(-1, 1))"
   ]
  },
  {
   "cell_type": "code",
   "execution_count": 156,
   "metadata": {},
   "outputs": [],
   "source": [
    "y_train_scaled = scaler_y.transform(np.array(y_train.values).reshape(-1, 1))\n",
    "y_test_scaled = scaler_y.transform(np.array(y_test.values).reshape(-1, 1))"
   ]
  },
  {
   "cell_type": "markdown",
   "metadata": {
    "tags": []
   },
   "source": [
    "## 5. Modeling"
   ]
  },
  {
   "cell_type": "code",
   "execution_count": 98,
   "metadata": {
    "tags": []
   },
   "outputs": [],
   "source": [
    "def scoring(model, X_train_scaled, X_test_scaled, y_train, y_test):\n",
    "    tr_pred = model.predict(X_train_scaled)\n",
    "    te_pred = model.predict(X_test_scaled)\n",
    "    \n",
    "    print(\"### R2 Score ###\")\n",
    "    print(model.score(X_train_scaled, y_train))\n",
    "    print(model.score(X_test_scaled, y_test))\n",
    "\n",
    "    print()\n",
    "    \n",
    "    print(\"###  MAE  ###\")\n",
    "    print(f\"TRAIN: {mean_absolute_error(y_train, tr_pred)}\")\n",
    "    print(f\"TEST : {mean_absolute_error(y_test, te_pred)}\")"
   ]
  },
  {
   "cell_type": "markdown",
   "metadata": {
    "tags": []
   },
   "source": [
    "### 5.1. 모델 적용"
   ]
  },
  {
   "cell_type": "markdown",
   "metadata": {},
   "source": [
    "- LinearRegression"
   ]
  },
  {
   "cell_type": "code",
   "execution_count": 104,
   "metadata": {},
   "outputs": [
    {
     "name": "stdout",
     "output_type": "stream",
     "text": [
      "### R2 Score ###\n",
      "0.508481069731627\n",
      "-971039720483584.9\n",
      "\n",
      "###  MAE  ###\n",
      "TRAIN: 1430849229.968405\n",
      "TEST : 6332420835356697.0\n"
     ]
    }
   ],
   "source": [
    "# 선형 회귀 모델 생성\n",
    "model = LinearRegression()\n",
    "\n",
    "# 모델에 데이터를 학습시킨 후\n",
    "model.fit(X_train_scaled, y_train)\n",
    "\n",
    "# 예측 수행\n",
    "y_pred = model.predict(X_test_scaled)\n",
    "\n",
    "scoring(model, X_train_scaled, X_test_scaled, y_train, y_test)"
   ]
  },
  {
   "cell_type": "markdown",
   "metadata": {},
   "source": [
    "- Ridge"
   ]
  },
  {
   "cell_type": "code",
   "execution_count": 105,
   "metadata": {},
   "outputs": [
    {
     "name": "stdout",
     "output_type": "stream",
     "text": [
      "### R2 Score ###\n",
      "0.5082042728056949\n",
      "0.5325650231678407\n",
      "\n",
      "###  MAE  ###\n",
      "TRAIN: 1444044919.9321847\n",
      "TEST : 1506064746.7247567\n"
     ]
    }
   ],
   "source": [
    "# 릿지 회귀 모델 생성\n",
    "model = Ridge(alpha=0.5)\n",
    "\n",
    "# 모델에 데이터를 학습시킨 후\n",
    "model.fit(X_train_scaled, y_train)\n",
    "\n",
    "# 예측 수행\n",
    "y_pred = model.predict(X_test_scaled)\n",
    "\n",
    "scoring(model, X_train_scaled, X_test_scaled, y_train, y_test)"
   ]
  },
  {
   "cell_type": "markdown",
   "metadata": {},
   "source": [
    "- Lasso"
   ]
  },
  {
   "cell_type": "code",
   "execution_count": 106,
   "metadata": {},
   "outputs": [
    {
     "name": "stdout",
     "output_type": "stream",
     "text": [
      "### R2 Score ###\n",
      "0.5084778636586017\n",
      "0.5276249787544559\n",
      "\n",
      "###  MAE  ###\n",
      "TRAIN: 1434229325.7775915\n",
      "TEST : 1499449135.5169091\n"
     ]
    }
   ],
   "source": [
    "# 라쏘 회귀 모델 생성\n",
    "model = Lasso(alpha=0.1)\n",
    "\n",
    "# 모델에 데이터를 학습시킨 후\n",
    "model.fit(X_train_scaled, y_train)\n",
    "\n",
    "# 예측 수행\n",
    "y_pred = model.predict(X_test_scaled)\n",
    "\n",
    "scoring(model, X_train_scaled, X_test_scaled, y_train, y_test)"
   ]
  },
  {
   "cell_type": "markdown",
   "metadata": {},
   "source": [
    "- RandomForest (MAIN)"
   ]
  },
  {
   "cell_type": "code",
   "execution_count": 107,
   "metadata": {},
   "outputs": [
    {
     "name": "stdout",
     "output_type": "stream",
     "text": [
      "### R2 Score ###\n",
      "0.9330928917079376\n",
      "0.711055692042578\n",
      "\n",
      "###  MAE  ###\n",
      "TRAIN: 215625010.96307027\n",
      "TEST : 458239155.7261434\n"
     ]
    }
   ],
   "source": [
    "model_rf = RandomForestRegressor()\n",
    "model_rf.fit(X_train_scaled, y_train)\n",
    "\n",
    "scoring(model_rf, X_train_scaled, X_test_scaled, y_train, y_test)"
   ]
  },
  {
   "cell_type": "code",
   "execution_count": 163,
   "metadata": {},
   "outputs": [],
   "source": [
    "y_train_avg = sum(y_train) / len(y_train)\n",
    "y_test_avg = sum(y_test) / len(y_test)"
   ]
  },
  {
   "cell_type": "code",
   "execution_count": 169,
   "metadata": {},
   "outputs": [
    {
     "data": {
      "text/plain": [
       "703150421.889119"
      ]
     },
     "execution_count": 169,
     "metadata": {},
     "output_type": "execute_result"
    }
   ],
   "source": [
    "y_train_avg"
   ]
  },
  {
   "cell_type": "code",
   "execution_count": 167,
   "metadata": {},
   "outputs": [
    {
     "name": "stdout",
     "output_type": "stream",
     "text": [
      "0.31\n"
     ]
    }
   ],
   "source": [
    "print(\"{:.2f}\".format(215625010.96307027 / y_train_avg))"
   ]
  },
  {
   "cell_type": "code",
   "execution_count": 170,
   "metadata": {},
   "outputs": [
    {
     "data": {
      "text/plain": [
       "737666921.1649402"
      ]
     },
     "execution_count": 170,
     "metadata": {},
     "output_type": "execute_result"
    }
   ],
   "source": [
    "y_test_avg"
   ]
  },
  {
   "cell_type": "code",
   "execution_count": 168,
   "metadata": {},
   "outputs": [
    {
     "name": "stdout",
     "output_type": "stream",
     "text": [
      "0.62\n"
     ]
    }
   ],
   "source": [
    "print(\"{:.2f}\".format(458239155.7261434 / y_test_avg))"
   ]
  },
  {
   "cell_type": "markdown",
   "metadata": {},
   "source": [
    "- RandomForest (y scaling 버전)"
   ]
  },
  {
   "cell_type": "code",
   "execution_count": 158,
   "metadata": {},
   "outputs": [
    {
     "name": "stdout",
     "output_type": "stream",
     "text": [
      "### R2 Score ###\n",
      "0.943552363142911\n",
      "0.7488607829093985\n",
      "\n",
      "###  MAE  ###\n",
      "TRAIN: 9.026245743909333e-05\n",
      "TEST : 0.00019176110916503173\n"
     ]
    }
   ],
   "source": [
    "model_rf2 = RandomForestRegressor()\n",
    "model_rf2.fit(X_train_scaled, y_train_scaled)\n",
    "\n",
    "scoring(model_rf2, X_train_scaled, X_test_scaled, y_train_scaled, y_test_scaled)"
   ]
  },
  {
   "cell_type": "markdown",
   "metadata": {
    "tags": []
   },
   "source": [
    "### 5.2. Feature Importance"
   ]
  },
  {
   "cell_type": "code",
   "execution_count": 108,
   "metadata": {
    "tags": []
   },
   "outputs": [],
   "source": [
    "importance = model_rf.feature_importances_\n",
    "\n",
    "imp_dict = {}\n",
    "\n",
    "# 중요도 출력\n",
    "for i, feature in enumerate(X_test.columns):\n",
    "    imp_dict[feature] = importance[i]"
   ]
  },
  {
   "cell_type": "code",
   "execution_count": 109,
   "metadata": {},
   "outputs": [],
   "source": [
    "sorted_imp_dict = sorted(imp_dict.items(), key=lambda x: x[1], reverse=True)"
   ]
  },
  {
   "cell_type": "code",
   "execution_count": 214,
   "metadata": {
    "collapsed": true,
    "jupyter": {
     "outputs_hidden": true
    },
    "tags": []
   },
   "outputs": [
    {
     "data": {
      "text/plain": [
       "[('composure', 0.27676733979204254),\n",
       " ('overall', 0.1115739258440287),\n",
       " ('pay', 0.06745690476450544),\n",
       " ('ovr_pace', 0.06079838179408787),\n",
       " ('ovr_shoot', 0.04827924789766172),\n",
       " ('balance', 0.046432793983895326),\n",
       " ('tackle', 0.03288113741406289),\n",
       " ('finish', 0.028531867760187908),\n",
       " ('ovr_physical', 0.02795554405649284),\n",
       " ('agility', 0.026025356620474876),\n",
       " ('positioning', 0.022877928580554843),\n",
       " ('sprint', 0.020068455051197767),\n",
       " ('gk_positioning', 0.01897945006958436),\n",
       " ('curve', 0.017118442845318042),\n",
       " ('accel', 0.01199403146773623),\n",
       " ('reaction', 0.010045247284579244),\n",
       " ('strength', 0.010016776354793817),\n",
       " ('height', 0.009347623878776058),\n",
       " ('weight', 0.008353601375635464),\n",
       " ('freekick', 0.008212940728558377),\n",
       " ('volley', 0.007868744495670864),\n",
       " ('intercept', 0.007523529939895853),\n",
       " ('ovr_dribble', 0.00742753442123774),\n",
       " ('aggression', 0.007250308191000677),\n",
       " ('shotpower', 0.007192208826703164),\n",
       " ('sliding', 0.007151918567323549),\n",
       " ('dribble', 0.006199221111139416),\n",
       " ('jump', 0.006069277068296093),\n",
       " ('age', 0.006001633522718048),\n",
       " ('penalty', 0.005440021576512843),\n",
       " ('shortpass', 0.00528567552106772),\n",
       " ('marking', 0.00492015828018047),\n",
       " ('gk_diving', 0.0046776322932328375),\n",
       " ('gk_kick', 0.004106729446387216),\n",
       " ('header', 0.0038201642599944583),\n",
       " ('longpass', 0.0038035295275785845),\n",
       " ('vision', 0.003363333854613386),\n",
       " ('control', 0.0032600449298080913),\n",
       " ('ST', 0.0032009480605190766),\n",
       " ('ovr_pass', 0.0030907458091315025),\n",
       " ('longshot', 0.0029934614853120312),\n",
       " ('skill', 0.0027645542019208358),\n",
       " ('gk_handle', 0.0025905594407127155),\n",
       " ('gk_reflex', 0.002374428722368815),\n",
       " ('ovr_defence', 0.00224931145675337),\n",
       " ('CF', 0.0021891044663134196),\n",
       " ('스페인', 0.0020377363214841415),\n",
       " ('stamina', 0.0017925368231764193),\n",
       " ('cross', 0.001722046911479423),\n",
       " ('ICON', 0.0009486678178260057),\n",
       " ('대한민국', 0.0009082486258846959),\n",
       " ('보통', 0.0007635808651426182),\n",
       " ('ICONTM', 0.0007338271194310763),\n",
       " ('22TOTS', 0.00045157242220532),\n",
       " ('leftfoot', 0.0004441704741103894),\n",
       " ('마름(고유)', 0.0004218194292855712),\n",
       " ('others', 0.0003851148135109077),\n",
       " ('네덜란드', 0.0003742039082361418),\n",
       " ('마름', 0.0003388299049590526),\n",
       " ('RB', 0.0002710992312272679),\n",
       " ('월드클래스', 0.00021740116967264208),\n",
       " ('독일', 0.00017751574032537096),\n",
       " ('잉글랜드', 0.0001313360528431655),\n",
       " ('건장', 0.0001057902782548617),\n",
       " ('프랑스', 0.00010490130444021195),\n",
       " ('LW', 9.92596316590403e-05),\n",
       " ('RMCF', 8.986809221469474e-05),\n",
       " ('브라질', 8.386104482797163e-05),\n",
       " ('레전더리', 8.352360203397722e-05),\n",
       " ('CB', 7.616768556769539e-05),\n",
       " ('보통(고유)', 7.508317714496799e-05),\n",
       " ('탑클래스', 6.324338783904799e-05),\n",
       " ('22TOTN', 5.070111393356163e-05),\n",
       " ('21TOTY', 5.0590042428832286e-05),\n",
       " ('포르투갈', 4.582273123510777e-05),\n",
       " ('21TOTS', 4.385579939329264e-05),\n",
       " ('RM', 4.125942213076594e-05),\n",
       " ('21UCL', 3.952689720954292e-05),\n",
       " ('RW', 3.6035688775407386e-05),\n",
       " ('22TOTY', 3.271944742187519e-05),\n",
       " ('이탈리아', 2.5136700137536805e-05),\n",
       " ('rightfoot', 2.4516520976466337e-05),\n",
       " ('LM', 1.9344225444007304e-05),\n",
       " ('23TOTS', 1.794857496337726e-05),\n",
       " ('CAM', 1.652715307958547e-05),\n",
       " ('LN', 1.4672015986670027e-05),\n",
       " ('CM', 1.2838753314276575e-05),\n",
       " ('아르헨티나', 1.2176669689533137e-05),\n",
       " ('RTN', 9.643805872838397e-06),\n",
       " ('WC22', 8.245554132104036e-06),\n",
       " ('CDM', 7.3555561915451414e-06),\n",
       " ('HG', 6.2195696295692175e-06),\n",
       " ('22UCL', 5.92631694053409e-06),\n",
       " ('BTB', 5.498330447334207e-06),\n",
       " ('CFA', 5.27022745867343e-06),\n",
       " ('RWB', 4.9615562181178505e-06),\n",
       " ('23TOTN', 3.826776170841149e-06),\n",
       " ('일반선수', 3.2412126230382157e-06),\n",
       " ('22KLB', 2.2253666633518734e-06),\n",
       " ('20TOTS', 2.2176546075412847e-06),\n",
       " ('19PLA', 2.18573758077644e-06),\n",
       " ('유명선수', 1.9096939896956057e-06),\n",
       " ('CAP', 1.633931109212192e-06),\n",
       " ('LB', 1.4115075929714743e-06),\n",
       " ('BWC', 1.3261771211887774e-06),\n",
       " ('2012KH', 1.2399177753797975e-06),\n",
       " ('20TOTY', 1.175782133332643e-06),\n",
       " ('18PLS', 1.1682533377087427e-06),\n",
       " ('건장(고유)', 1.0613657929231913e-06),\n",
       " ('FA', 8.241294772447643e-07),\n",
       " ('19PLS', 6.791112293664806e-07),\n",
       " ('23HR', 6.323053610726635e-07),\n",
       " ('23KL', 6.194733413757752e-07),\n",
       " ('LWB', 4.073283731972382e-07),\n",
       " ('21TOTN', 3.548686129324111e-07),\n",
       " ('23TOTY', 3.2637256764892944e-07),\n",
       " ('20UCL', 1.9001684362630562e-07),\n",
       " ('19TOTS', 1.8756185430445556e-07),\n",
       " ('19TOTY', 1.68560172622162e-07),\n",
       " ('19UCL', 1.405567281158723e-07),\n",
       " ('18PLA', 1.2738270389184425e-07),\n",
       " ('TKL', 1.2494048603692915e-07),\n",
       " ('20PL', 1.0965828961202267e-07),\n",
       " ('18LIVE', 7.762135836845144e-08),\n",
       " ('MCICON', 5.639832845192132e-08),\n",
       " ('17LIVE', 4.514067717765474e-08),\n",
       " ('UP', 4.4764107276702484e-08),\n",
       " ('19NG', 3.766404767648134e-08),\n",
       " ('GK', 3.6911248150995665e-08),\n",
       " ('21KLB', 3.636346298994845e-08),\n",
       " ('22LIVE', 3.575323067023799e-08),\n",
       " ('EBS', 2.487075825770932e-08),\n",
       " ('SPL', 2.364951788065858e-08),\n",
       " ('20TOTN', 1.0676946972785912e-08),\n",
       " ('MC', 9.447385889123752e-09),\n",
       " ('BOE21', 8.95769244262687e-09),\n",
       " ('18TOTY', 7.891313730001864e-09),\n",
       " ('GR', 6.886726929108136e-09),\n",
       " ('LH', 5.559401145338871e-09),\n",
       " ('TC', 4.718891495547688e-09),\n",
       " ('MCFC', 4.295105308140174e-09),\n",
       " ('VTR', 4.207476473512874e-09),\n",
       " ('21PL', 3.3868812784985838e-09),\n",
       " ('TT', 3.244719975496028e-09),\n",
       " ('HOT', 2.8078078278701825e-09),\n",
       " ('LOL', 2.7116708085373748e-09),\n",
       " ('19LIVE', 1.9447857881388816e-09),\n",
       " ('21KL', 1.8218754043703863e-09),\n",
       " ('NHD', 1.68683371597142e-09),\n",
       " ('20LIVE', 1.517826884349146e-09),\n",
       " ('TB', 1.4910714183081727e-09),\n",
       " ('22PL', 1.3084809875321975e-09),\n",
       " ('COC', 1.2102725604968442e-09),\n",
       " ('20KLB', 1.194845604014456e-09),\n",
       " ('20KL', 7.953079298230246e-10),\n",
       " ('NTG', 4.580110928975873e-10),\n",
       " ('OTW', 3.6805784521386753e-10),\n",
       " ('22KL', 3.4452769045175393e-10),\n",
       " ('20NG', 2.481666252019464e-10),\n",
       " ('21NG', 1.0551681325811031e-10),\n",
       " ('TKI', 9.210280637411792e-11),\n",
       " ('MOG', 8.262890191070379e-11),\n",
       " ('21LIVE', 6.091028460511564e-11),\n",
       " ('21KFA', 5.018985238622079e-11),\n",
       " ('22NG', 2.755772158400654e-11),\n",
       " ('22HR', 2.0723334011443943e-11),\n",
       " ('22KFA', 1.972763033470516e-11),\n",
       " ('LA', 1.8499706301234906e-11),\n",
       " ('19KFA', 9.466590277600182e-12),\n",
       " ('18KFA', 2.4902843285322222e-12),\n",
       " ('LF', 4.660403850075684e-13),\n",
       " ('RF', 0.0)]"
      ]
     },
     "execution_count": 214,
     "metadata": {},
     "output_type": "execute_result"
    }
   ],
   "source": [
    "sorted_imp_dict"
   ]
  },
  {
   "cell_type": "markdown",
   "metadata": {},
   "source": [
    "### 5.3. 중요도 높은 변수 상관관계 시각화"
   ]
  },
  {
   "cell_type": "code",
   "execution_count": 185,
   "metadata": {
    "tags": []
   },
   "outputs": [],
   "source": [
    "imp_col_list = []\n",
    "\n",
    "for col,imp in sorted_imp_dict:\n",
    "    if imp >= 0.01:\n",
    "        imp_col_list.append(col)"
   ]
  },
  {
   "cell_type": "code",
   "execution_count": 186,
   "metadata": {},
   "outputs": [
    {
     "data": {
      "text/plain": [
       "['composure',\n",
       " 'overall',\n",
       " 'pay',\n",
       " 'ovr_pace',\n",
       " 'ovr_shoot',\n",
       " 'balance',\n",
       " 'tackle',\n",
       " 'finish',\n",
       " 'ovr_physical',\n",
       " 'agility',\n",
       " 'positioning',\n",
       " 'sprint',\n",
       " 'gk_positioning',\n",
       " 'curve',\n",
       " 'accel',\n",
       " 'reaction',\n",
       " 'strength']"
      ]
     },
     "execution_count": 186,
     "metadata": {},
     "output_type": "execute_result"
    }
   ],
   "source": [
    "imp_col_list"
   ]
  },
  {
   "cell_type": "code",
   "execution_count": 188,
   "metadata": {},
   "outputs": [],
   "source": [
    "imp_col_list.append(y_col)"
   ]
  },
  {
   "cell_type": "code",
   "execution_count": 192,
   "metadata": {
    "collapsed": true,
    "jupyter": {
     "outputs_hidden": true
    },
    "tags": []
   },
   "outputs": [
    {
     "data": {
      "text/plain": [
       "<AxesSubplot:>"
      ]
     },
     "execution_count": 192,
     "metadata": {},
     "output_type": "execute_result"
    },
    {
     "name": "stdout",
     "output_type": "stream",
     "text": [
      "Error in callback <function flush_figures at 0x7fb15b2f9280> (for post_execute):\n"
     ]
    },
    {
     "ename": "KeyboardInterrupt",
     "evalue": "",
     "output_type": "error",
     "traceback": [
      "\u001b[0;31m---------------------------------------------------------------------------\u001b[0m",
      "\u001b[0;31mKeyboardInterrupt\u001b[0m                         Traceback (most recent call last)",
      "\u001b[0;32m/opt/anaconda3/lib/python3.9/site-packages/matplotlib_inline/backend_inline.py\u001b[0m in \u001b[0;36mflush_figures\u001b[0;34m()\u001b[0m\n\u001b[1;32m    124\u001b[0m             \u001b[0;31m# ignore the tracking, just draw and close all figures\u001b[0m\u001b[0;34m\u001b[0m\u001b[0;34m\u001b[0m\u001b[0m\n\u001b[1;32m    125\u001b[0m             \u001b[0;32mtry\u001b[0m\u001b[0;34m:\u001b[0m\u001b[0;34m\u001b[0m\u001b[0;34m\u001b[0m\u001b[0m\n\u001b[0;32m--> 126\u001b[0;31m                 \u001b[0;32mreturn\u001b[0m \u001b[0mshow\u001b[0m\u001b[0;34m(\u001b[0m\u001b[0;32mTrue\u001b[0m\u001b[0;34m)\u001b[0m\u001b[0;34m\u001b[0m\u001b[0;34m\u001b[0m\u001b[0m\n\u001b[0m\u001b[1;32m    127\u001b[0m             \u001b[0;32mexcept\u001b[0m \u001b[0mException\u001b[0m \u001b[0;32mas\u001b[0m \u001b[0me\u001b[0m\u001b[0;34m:\u001b[0m\u001b[0;34m\u001b[0m\u001b[0;34m\u001b[0m\u001b[0m\n\u001b[1;32m    128\u001b[0m                 \u001b[0;31m# safely show traceback if in IPython, else raise\u001b[0m\u001b[0;34m\u001b[0m\u001b[0;34m\u001b[0m\u001b[0m\n",
      "\u001b[0;32m/opt/anaconda3/lib/python3.9/site-packages/matplotlib_inline/backend_inline.py\u001b[0m in \u001b[0;36mshow\u001b[0;34m(close, block)\u001b[0m\n\u001b[1;32m     88\u001b[0m     \u001b[0;32mtry\u001b[0m\u001b[0;34m:\u001b[0m\u001b[0;34m\u001b[0m\u001b[0;34m\u001b[0m\u001b[0m\n\u001b[1;32m     89\u001b[0m         \u001b[0;32mfor\u001b[0m \u001b[0mfigure_manager\u001b[0m \u001b[0;32min\u001b[0m \u001b[0mGcf\u001b[0m\u001b[0;34m.\u001b[0m\u001b[0mget_all_fig_managers\u001b[0m\u001b[0;34m(\u001b[0m\u001b[0;34m)\u001b[0m\u001b[0;34m:\u001b[0m\u001b[0;34m\u001b[0m\u001b[0;34m\u001b[0m\u001b[0m\n\u001b[0;32m---> 90\u001b[0;31m             display(\n\u001b[0m\u001b[1;32m     91\u001b[0m                 \u001b[0mfigure_manager\u001b[0m\u001b[0;34m.\u001b[0m\u001b[0mcanvas\u001b[0m\u001b[0;34m.\u001b[0m\u001b[0mfigure\u001b[0m\u001b[0;34m,\u001b[0m\u001b[0;34m\u001b[0m\u001b[0;34m\u001b[0m\u001b[0m\n\u001b[1;32m     92\u001b[0m                 \u001b[0mmetadata\u001b[0m\u001b[0;34m=\u001b[0m\u001b[0m_fetch_figure_metadata\u001b[0m\u001b[0;34m(\u001b[0m\u001b[0mfigure_manager\u001b[0m\u001b[0;34m.\u001b[0m\u001b[0mcanvas\u001b[0m\u001b[0;34m.\u001b[0m\u001b[0mfigure\u001b[0m\u001b[0;34m)\u001b[0m\u001b[0;34m\u001b[0m\u001b[0;34m\u001b[0m\u001b[0m\n",
      "\u001b[0;32m/opt/anaconda3/lib/python3.9/site-packages/IPython/core/display.py\u001b[0m in \u001b[0;36mdisplay\u001b[0;34m(include, exclude, metadata, transient, display_id, *objs, **kwargs)\u001b[0m\n\u001b[1;32m    318\u001b[0m             \u001b[0mpublish_display_data\u001b[0m\u001b[0;34m(\u001b[0m\u001b[0mdata\u001b[0m\u001b[0;34m=\u001b[0m\u001b[0mobj\u001b[0m\u001b[0;34m,\u001b[0m \u001b[0mmetadata\u001b[0m\u001b[0;34m=\u001b[0m\u001b[0mmetadata\u001b[0m\u001b[0;34m,\u001b[0m \u001b[0;34m**\u001b[0m\u001b[0mkwargs\u001b[0m\u001b[0;34m)\u001b[0m\u001b[0;34m\u001b[0m\u001b[0;34m\u001b[0m\u001b[0m\n\u001b[1;32m    319\u001b[0m         \u001b[0;32melse\u001b[0m\u001b[0;34m:\u001b[0m\u001b[0;34m\u001b[0m\u001b[0;34m\u001b[0m\u001b[0m\n\u001b[0;32m--> 320\u001b[0;31m             \u001b[0mformat_dict\u001b[0m\u001b[0;34m,\u001b[0m \u001b[0mmd_dict\u001b[0m \u001b[0;34m=\u001b[0m \u001b[0mformat\u001b[0m\u001b[0;34m(\u001b[0m\u001b[0mobj\u001b[0m\u001b[0;34m,\u001b[0m \u001b[0minclude\u001b[0m\u001b[0;34m=\u001b[0m\u001b[0minclude\u001b[0m\u001b[0;34m,\u001b[0m \u001b[0mexclude\u001b[0m\u001b[0;34m=\u001b[0m\u001b[0mexclude\u001b[0m\u001b[0;34m)\u001b[0m\u001b[0;34m\u001b[0m\u001b[0;34m\u001b[0m\u001b[0m\n\u001b[0m\u001b[1;32m    321\u001b[0m             \u001b[0;32mif\u001b[0m \u001b[0;32mnot\u001b[0m \u001b[0mformat_dict\u001b[0m\u001b[0;34m:\u001b[0m\u001b[0;34m\u001b[0m\u001b[0;34m\u001b[0m\u001b[0m\n\u001b[1;32m    322\u001b[0m                 \u001b[0;31m# nothing to display (e.g. _ipython_display_ took over)\u001b[0m\u001b[0;34m\u001b[0m\u001b[0;34m\u001b[0m\u001b[0m\n",
      "\u001b[0;32m/opt/anaconda3/lib/python3.9/site-packages/IPython/core/formatters.py\u001b[0m in \u001b[0;36mformat\u001b[0;34m(self, obj, include, exclude)\u001b[0m\n\u001b[1;32m    178\u001b[0m             \u001b[0mmd\u001b[0m \u001b[0;34m=\u001b[0m \u001b[0;32mNone\u001b[0m\u001b[0;34m\u001b[0m\u001b[0;34m\u001b[0m\u001b[0m\n\u001b[1;32m    179\u001b[0m             \u001b[0;32mtry\u001b[0m\u001b[0;34m:\u001b[0m\u001b[0;34m\u001b[0m\u001b[0;34m\u001b[0m\u001b[0m\n\u001b[0;32m--> 180\u001b[0;31m                 \u001b[0mdata\u001b[0m \u001b[0;34m=\u001b[0m \u001b[0mformatter\u001b[0m\u001b[0;34m(\u001b[0m\u001b[0mobj\u001b[0m\u001b[0;34m)\u001b[0m\u001b[0;34m\u001b[0m\u001b[0;34m\u001b[0m\u001b[0m\n\u001b[0m\u001b[1;32m    181\u001b[0m             \u001b[0;32mexcept\u001b[0m\u001b[0;34m:\u001b[0m\u001b[0;34m\u001b[0m\u001b[0;34m\u001b[0m\u001b[0m\n\u001b[1;32m    182\u001b[0m                 \u001b[0;31m# FIXME: log the exception\u001b[0m\u001b[0;34m\u001b[0m\u001b[0;34m\u001b[0m\u001b[0m\n",
      "\u001b[0;32m/opt/anaconda3/lib/python3.9/site-packages/decorator.py\u001b[0m in \u001b[0;36mfun\u001b[0;34m(*args, **kw)\u001b[0m\n\u001b[1;32m    230\u001b[0m             \u001b[0;32mif\u001b[0m \u001b[0;32mnot\u001b[0m \u001b[0mkwsyntax\u001b[0m\u001b[0;34m:\u001b[0m\u001b[0;34m\u001b[0m\u001b[0;34m\u001b[0m\u001b[0m\n\u001b[1;32m    231\u001b[0m                 \u001b[0margs\u001b[0m\u001b[0;34m,\u001b[0m \u001b[0mkw\u001b[0m \u001b[0;34m=\u001b[0m \u001b[0mfix\u001b[0m\u001b[0;34m(\u001b[0m\u001b[0margs\u001b[0m\u001b[0;34m,\u001b[0m \u001b[0mkw\u001b[0m\u001b[0;34m,\u001b[0m \u001b[0msig\u001b[0m\u001b[0;34m)\u001b[0m\u001b[0;34m\u001b[0m\u001b[0;34m\u001b[0m\u001b[0m\n\u001b[0;32m--> 232\u001b[0;31m             \u001b[0;32mreturn\u001b[0m \u001b[0mcaller\u001b[0m\u001b[0;34m(\u001b[0m\u001b[0mfunc\u001b[0m\u001b[0;34m,\u001b[0m \u001b[0;34m*\u001b[0m\u001b[0;34m(\u001b[0m\u001b[0mextras\u001b[0m \u001b[0;34m+\u001b[0m \u001b[0margs\u001b[0m\u001b[0;34m)\u001b[0m\u001b[0;34m,\u001b[0m \u001b[0;34m**\u001b[0m\u001b[0mkw\u001b[0m\u001b[0;34m)\u001b[0m\u001b[0;34m\u001b[0m\u001b[0;34m\u001b[0m\u001b[0m\n\u001b[0m\u001b[1;32m    233\u001b[0m     \u001b[0mfun\u001b[0m\u001b[0;34m.\u001b[0m\u001b[0m__name__\u001b[0m \u001b[0;34m=\u001b[0m \u001b[0mfunc\u001b[0m\u001b[0;34m.\u001b[0m\u001b[0m__name__\u001b[0m\u001b[0;34m\u001b[0m\u001b[0;34m\u001b[0m\u001b[0m\n\u001b[1;32m    234\u001b[0m     \u001b[0mfun\u001b[0m\u001b[0;34m.\u001b[0m\u001b[0m__doc__\u001b[0m \u001b[0;34m=\u001b[0m \u001b[0mfunc\u001b[0m\u001b[0;34m.\u001b[0m\u001b[0m__doc__\u001b[0m\u001b[0;34m\u001b[0m\u001b[0;34m\u001b[0m\u001b[0m\n",
      "\u001b[0;32m/opt/anaconda3/lib/python3.9/site-packages/IPython/core/formatters.py\u001b[0m in \u001b[0;36mcatch_format_error\u001b[0;34m(method, self, *args, **kwargs)\u001b[0m\n\u001b[1;32m    222\u001b[0m     \u001b[0;34m\"\"\"show traceback on failed format call\"\"\"\u001b[0m\u001b[0;34m\u001b[0m\u001b[0;34m\u001b[0m\u001b[0m\n\u001b[1;32m    223\u001b[0m     \u001b[0;32mtry\u001b[0m\u001b[0;34m:\u001b[0m\u001b[0;34m\u001b[0m\u001b[0;34m\u001b[0m\u001b[0m\n\u001b[0;32m--> 224\u001b[0;31m         \u001b[0mr\u001b[0m \u001b[0;34m=\u001b[0m \u001b[0mmethod\u001b[0m\u001b[0;34m(\u001b[0m\u001b[0mself\u001b[0m\u001b[0;34m,\u001b[0m \u001b[0;34m*\u001b[0m\u001b[0margs\u001b[0m\u001b[0;34m,\u001b[0m \u001b[0;34m**\u001b[0m\u001b[0mkwargs\u001b[0m\u001b[0;34m)\u001b[0m\u001b[0;34m\u001b[0m\u001b[0;34m\u001b[0m\u001b[0m\n\u001b[0m\u001b[1;32m    225\u001b[0m     \u001b[0;32mexcept\u001b[0m \u001b[0mNotImplementedError\u001b[0m\u001b[0;34m:\u001b[0m\u001b[0;34m\u001b[0m\u001b[0;34m\u001b[0m\u001b[0m\n\u001b[1;32m    226\u001b[0m         \u001b[0;31m# don't warn on NotImplementedErrors\u001b[0m\u001b[0;34m\u001b[0m\u001b[0;34m\u001b[0m\u001b[0m\n",
      "\u001b[0;32m/opt/anaconda3/lib/python3.9/site-packages/IPython/core/formatters.py\u001b[0m in \u001b[0;36m__call__\u001b[0;34m(self, obj)\u001b[0m\n\u001b[1;32m    339\u001b[0m                 \u001b[0;32mpass\u001b[0m\u001b[0;34m\u001b[0m\u001b[0;34m\u001b[0m\u001b[0m\n\u001b[1;32m    340\u001b[0m             \u001b[0;32melse\u001b[0m\u001b[0;34m:\u001b[0m\u001b[0;34m\u001b[0m\u001b[0;34m\u001b[0m\u001b[0m\n\u001b[0;32m--> 341\u001b[0;31m                 \u001b[0;32mreturn\u001b[0m \u001b[0mprinter\u001b[0m\u001b[0;34m(\u001b[0m\u001b[0mobj\u001b[0m\u001b[0;34m)\u001b[0m\u001b[0;34m\u001b[0m\u001b[0;34m\u001b[0m\u001b[0m\n\u001b[0m\u001b[1;32m    342\u001b[0m             \u001b[0;31m# Finally look for special method names\u001b[0m\u001b[0;34m\u001b[0m\u001b[0;34m\u001b[0m\u001b[0m\n\u001b[1;32m    343\u001b[0m             \u001b[0mmethod\u001b[0m \u001b[0;34m=\u001b[0m \u001b[0mget_real_method\u001b[0m\u001b[0;34m(\u001b[0m\u001b[0mobj\u001b[0m\u001b[0;34m,\u001b[0m \u001b[0mself\u001b[0m\u001b[0;34m.\u001b[0m\u001b[0mprint_method\u001b[0m\u001b[0;34m)\u001b[0m\u001b[0;34m\u001b[0m\u001b[0;34m\u001b[0m\u001b[0m\n",
      "\u001b[0;32m/opt/anaconda3/lib/python3.9/site-packages/IPython/core/pylabtools.py\u001b[0m in \u001b[0;36mprint_figure\u001b[0;34m(fig, fmt, bbox_inches, base64, **kwargs)\u001b[0m\n\u001b[1;32m    149\u001b[0m         \u001b[0mFigureCanvasBase\u001b[0m\u001b[0;34m(\u001b[0m\u001b[0mfig\u001b[0m\u001b[0;34m)\u001b[0m\u001b[0;34m\u001b[0m\u001b[0;34m\u001b[0m\u001b[0m\n\u001b[1;32m    150\u001b[0m \u001b[0;34m\u001b[0m\u001b[0m\n\u001b[0;32m--> 151\u001b[0;31m     \u001b[0mfig\u001b[0m\u001b[0;34m.\u001b[0m\u001b[0mcanvas\u001b[0m\u001b[0;34m.\u001b[0m\u001b[0mprint_figure\u001b[0m\u001b[0;34m(\u001b[0m\u001b[0mbytes_io\u001b[0m\u001b[0;34m,\u001b[0m \u001b[0;34m**\u001b[0m\u001b[0mkw\u001b[0m\u001b[0;34m)\u001b[0m\u001b[0;34m\u001b[0m\u001b[0;34m\u001b[0m\u001b[0m\n\u001b[0m\u001b[1;32m    152\u001b[0m     \u001b[0mdata\u001b[0m \u001b[0;34m=\u001b[0m \u001b[0mbytes_io\u001b[0m\u001b[0;34m.\u001b[0m\u001b[0mgetvalue\u001b[0m\u001b[0;34m(\u001b[0m\u001b[0;34m)\u001b[0m\u001b[0;34m\u001b[0m\u001b[0;34m\u001b[0m\u001b[0m\n\u001b[1;32m    153\u001b[0m     \u001b[0;32mif\u001b[0m \u001b[0mfmt\u001b[0m \u001b[0;34m==\u001b[0m \u001b[0;34m'svg'\u001b[0m\u001b[0;34m:\u001b[0m\u001b[0;34m\u001b[0m\u001b[0;34m\u001b[0m\u001b[0m\n",
      "\u001b[0;32m/opt/anaconda3/lib/python3.9/site-packages/matplotlib/backend_bases.py\u001b[0m in \u001b[0;36mprint_figure\u001b[0;34m(self, filename, dpi, facecolor, edgecolor, orientation, format, bbox_inches, pad_inches, bbox_extra_artists, backend, **kwargs)\u001b[0m\n\u001b[1;32m   2297\u001b[0m             \u001b[0;32mif\u001b[0m \u001b[0mbbox_inches\u001b[0m\u001b[0;34m:\u001b[0m\u001b[0;34m\u001b[0m\u001b[0;34m\u001b[0m\u001b[0m\n\u001b[1;32m   2298\u001b[0m                 \u001b[0;32mif\u001b[0m \u001b[0mbbox_inches\u001b[0m \u001b[0;34m==\u001b[0m \u001b[0;34m\"tight\"\u001b[0m\u001b[0;34m:\u001b[0m\u001b[0;34m\u001b[0m\u001b[0;34m\u001b[0m\u001b[0m\n\u001b[0;32m-> 2299\u001b[0;31m                     bbox_inches = self.figure.get_tightbbox(\n\u001b[0m\u001b[1;32m   2300\u001b[0m                         renderer, bbox_extra_artists=bbox_extra_artists)\n\u001b[1;32m   2301\u001b[0m                     \u001b[0;32mif\u001b[0m \u001b[0mpad_inches\u001b[0m \u001b[0;32mis\u001b[0m \u001b[0;32mNone\u001b[0m\u001b[0;34m:\u001b[0m\u001b[0;34m\u001b[0m\u001b[0;34m\u001b[0m\u001b[0m\n",
      "\u001b[0;32m/opt/anaconda3/lib/python3.9/site-packages/matplotlib/figure.py\u001b[0m in \u001b[0;36mget_tightbbox\u001b[0;34m(self, renderer, bbox_extra_artists)\u001b[0m\n\u001b[1;32m   1682\u001b[0m \u001b[0;34m\u001b[0m\u001b[0m\n\u001b[1;32m   1683\u001b[0m         \u001b[0;32mfor\u001b[0m \u001b[0ma\u001b[0m \u001b[0;32min\u001b[0m \u001b[0martists\u001b[0m\u001b[0;34m:\u001b[0m\u001b[0;34m\u001b[0m\u001b[0;34m\u001b[0m\u001b[0m\n\u001b[0;32m-> 1684\u001b[0;31m             \u001b[0mbbox\u001b[0m \u001b[0;34m=\u001b[0m \u001b[0ma\u001b[0m\u001b[0;34m.\u001b[0m\u001b[0mget_tightbbox\u001b[0m\u001b[0;34m(\u001b[0m\u001b[0mrenderer\u001b[0m\u001b[0;34m)\u001b[0m\u001b[0;34m\u001b[0m\u001b[0;34m\u001b[0m\u001b[0m\n\u001b[0m\u001b[1;32m   1685\u001b[0m             \u001b[0;32mif\u001b[0m \u001b[0mbbox\u001b[0m \u001b[0;32mis\u001b[0m \u001b[0;32mnot\u001b[0m \u001b[0;32mNone\u001b[0m \u001b[0;32mand\u001b[0m \u001b[0;34m(\u001b[0m\u001b[0mbbox\u001b[0m\u001b[0;34m.\u001b[0m\u001b[0mwidth\u001b[0m \u001b[0;34m!=\u001b[0m \u001b[0;36m0\u001b[0m \u001b[0;32mor\u001b[0m \u001b[0mbbox\u001b[0m\u001b[0;34m.\u001b[0m\u001b[0mheight\u001b[0m \u001b[0;34m!=\u001b[0m \u001b[0;36m0\u001b[0m\u001b[0;34m)\u001b[0m\u001b[0;34m:\u001b[0m\u001b[0;34m\u001b[0m\u001b[0;34m\u001b[0m\u001b[0m\n\u001b[1;32m   1686\u001b[0m                 \u001b[0mbb\u001b[0m\u001b[0;34m.\u001b[0m\u001b[0mappend\u001b[0m\u001b[0;34m(\u001b[0m\u001b[0mbbox\u001b[0m\u001b[0;34m)\u001b[0m\u001b[0;34m\u001b[0m\u001b[0;34m\u001b[0m\u001b[0m\n",
      "\u001b[0;32m/opt/anaconda3/lib/python3.9/site-packages/matplotlib/artist.py\u001b[0m in \u001b[0;36mget_tightbbox\u001b[0;34m(self, renderer)\u001b[0m\n\u001b[1;32m    353\u001b[0m             \u001b[0mThe\u001b[0m \u001b[0menclosing\u001b[0m \u001b[0mbounding\u001b[0m \u001b[0mbox\u001b[0m \u001b[0;34m(\u001b[0m\u001b[0;32min\u001b[0m \u001b[0mfigure\u001b[0m \u001b[0mpixel\u001b[0m \u001b[0mcoordinates\u001b[0m\u001b[0;34m)\u001b[0m\u001b[0;34m.\u001b[0m\u001b[0;34m\u001b[0m\u001b[0;34m\u001b[0m\u001b[0m\n\u001b[1;32m    354\u001b[0m         \"\"\"\n\u001b[0;32m--> 355\u001b[0;31m         \u001b[0mbbox\u001b[0m \u001b[0;34m=\u001b[0m \u001b[0mself\u001b[0m\u001b[0;34m.\u001b[0m\u001b[0mget_window_extent\u001b[0m\u001b[0;34m(\u001b[0m\u001b[0mrenderer\u001b[0m\u001b[0;34m)\u001b[0m\u001b[0;34m\u001b[0m\u001b[0;34m\u001b[0m\u001b[0m\n\u001b[0m\u001b[1;32m    356\u001b[0m         \u001b[0;32mif\u001b[0m \u001b[0mself\u001b[0m\u001b[0;34m.\u001b[0m\u001b[0mget_clip_on\u001b[0m\u001b[0;34m(\u001b[0m\u001b[0;34m)\u001b[0m\u001b[0;34m:\u001b[0m\u001b[0;34m\u001b[0m\u001b[0;34m\u001b[0m\u001b[0m\n\u001b[1;32m    357\u001b[0m             \u001b[0mclip_box\u001b[0m \u001b[0;34m=\u001b[0m \u001b[0mself\u001b[0m\u001b[0;34m.\u001b[0m\u001b[0mget_clip_box\u001b[0m\u001b[0;34m(\u001b[0m\u001b[0;34m)\u001b[0m\u001b[0;34m\u001b[0m\u001b[0;34m\u001b[0m\u001b[0m\n",
      "\u001b[0;32m/opt/anaconda3/lib/python3.9/site-packages/matplotlib/text.py\u001b[0m in \u001b[0;36mget_window_extent\u001b[0;34m(self, renderer, dpi)\u001b[0m\n\u001b[1;32m    908\u001b[0m \u001b[0;34m\u001b[0m\u001b[0m\n\u001b[1;32m    909\u001b[0m         \u001b[0;32mwith\u001b[0m \u001b[0mcbook\u001b[0m\u001b[0;34m.\u001b[0m\u001b[0m_setattr_cm\u001b[0m\u001b[0;34m(\u001b[0m\u001b[0mself\u001b[0m\u001b[0;34m.\u001b[0m\u001b[0mfigure\u001b[0m\u001b[0;34m,\u001b[0m \u001b[0mdpi\u001b[0m\u001b[0;34m=\u001b[0m\u001b[0mdpi\u001b[0m\u001b[0;34m)\u001b[0m\u001b[0;34m:\u001b[0m\u001b[0;34m\u001b[0m\u001b[0;34m\u001b[0m\u001b[0m\n\u001b[0;32m--> 910\u001b[0;31m             \u001b[0mbbox\u001b[0m\u001b[0;34m,\u001b[0m \u001b[0minfo\u001b[0m\u001b[0;34m,\u001b[0m \u001b[0mdescent\u001b[0m \u001b[0;34m=\u001b[0m \u001b[0mself\u001b[0m\u001b[0;34m.\u001b[0m\u001b[0m_get_layout\u001b[0m\u001b[0;34m(\u001b[0m\u001b[0mself\u001b[0m\u001b[0;34m.\u001b[0m\u001b[0m_renderer\u001b[0m\u001b[0;34m)\u001b[0m\u001b[0;34m\u001b[0m\u001b[0;34m\u001b[0m\u001b[0m\n\u001b[0m\u001b[1;32m    911\u001b[0m             \u001b[0mx\u001b[0m\u001b[0;34m,\u001b[0m \u001b[0my\u001b[0m \u001b[0;34m=\u001b[0m \u001b[0mself\u001b[0m\u001b[0;34m.\u001b[0m\u001b[0mget_unitless_position\u001b[0m\u001b[0;34m(\u001b[0m\u001b[0;34m)\u001b[0m\u001b[0;34m\u001b[0m\u001b[0;34m\u001b[0m\u001b[0m\n\u001b[1;32m    912\u001b[0m             \u001b[0mx\u001b[0m\u001b[0;34m,\u001b[0m \u001b[0my\u001b[0m \u001b[0;34m=\u001b[0m \u001b[0mself\u001b[0m\u001b[0;34m.\u001b[0m\u001b[0mget_transform\u001b[0m\u001b[0;34m(\u001b[0m\u001b[0;34m)\u001b[0m\u001b[0;34m.\u001b[0m\u001b[0mtransform\u001b[0m\u001b[0;34m(\u001b[0m\u001b[0;34m(\u001b[0m\u001b[0mx\u001b[0m\u001b[0;34m,\u001b[0m \u001b[0my\u001b[0m\u001b[0;34m)\u001b[0m\u001b[0;34m)\u001b[0m\u001b[0;34m\u001b[0m\u001b[0;34m\u001b[0m\u001b[0m\n",
      "\u001b[0;32m/opt/anaconda3/lib/python3.9/site-packages/matplotlib/text.py\u001b[0m in \u001b[0;36m_get_layout\u001b[0;34m(self, renderer)\u001b[0m\n\u001b[1;32m    315\u001b[0m             \u001b[0mclean_line\u001b[0m\u001b[0;34m,\u001b[0m \u001b[0mismath\u001b[0m \u001b[0;34m=\u001b[0m \u001b[0mself\u001b[0m\u001b[0;34m.\u001b[0m\u001b[0m_preprocess_math\u001b[0m\u001b[0;34m(\u001b[0m\u001b[0mline\u001b[0m\u001b[0;34m)\u001b[0m\u001b[0;34m\u001b[0m\u001b[0;34m\u001b[0m\u001b[0m\n\u001b[1;32m    316\u001b[0m             \u001b[0;32mif\u001b[0m \u001b[0mclean_line\u001b[0m\u001b[0;34m:\u001b[0m\u001b[0;34m\u001b[0m\u001b[0;34m\u001b[0m\u001b[0m\n\u001b[0;32m--> 317\u001b[0;31m                 w, h, d = renderer.get_text_width_height_descent(\n\u001b[0m\u001b[1;32m    318\u001b[0m                     clean_line, self._fontproperties, ismath=ismath)\n\u001b[1;32m    319\u001b[0m             \u001b[0;32melse\u001b[0m\u001b[0;34m:\u001b[0m\u001b[0;34m\u001b[0m\u001b[0;34m\u001b[0m\u001b[0m\n",
      "\u001b[0;32m/opt/anaconda3/lib/python3.9/site-packages/matplotlib/backends/backend_agg.py\u001b[0m in \u001b[0;36mget_text_width_height_descent\u001b[0;34m(self, s, prop, ismath)\u001b[0m\n\u001b[1;32m    268\u001b[0m         \u001b[0mflags\u001b[0m \u001b[0;34m=\u001b[0m \u001b[0mget_hinting_flag\u001b[0m\u001b[0;34m(\u001b[0m\u001b[0;34m)\u001b[0m\u001b[0;34m\u001b[0m\u001b[0;34m\u001b[0m\u001b[0m\n\u001b[1;32m    269\u001b[0m         \u001b[0mfont\u001b[0m \u001b[0;34m=\u001b[0m \u001b[0mself\u001b[0m\u001b[0;34m.\u001b[0m\u001b[0m_get_agg_font\u001b[0m\u001b[0;34m(\u001b[0m\u001b[0mprop\u001b[0m\u001b[0;34m)\u001b[0m\u001b[0;34m\u001b[0m\u001b[0;34m\u001b[0m\u001b[0m\n\u001b[0;32m--> 270\u001b[0;31m         \u001b[0mfont\u001b[0m\u001b[0;34m.\u001b[0m\u001b[0mset_text\u001b[0m\u001b[0;34m(\u001b[0m\u001b[0ms\u001b[0m\u001b[0;34m,\u001b[0m \u001b[0;36m0.0\u001b[0m\u001b[0;34m,\u001b[0m \u001b[0mflags\u001b[0m\u001b[0;34m=\u001b[0m\u001b[0mflags\u001b[0m\u001b[0;34m)\u001b[0m\u001b[0;34m\u001b[0m\u001b[0;34m\u001b[0m\u001b[0m\n\u001b[0m\u001b[1;32m    271\u001b[0m         \u001b[0mw\u001b[0m\u001b[0;34m,\u001b[0m \u001b[0mh\u001b[0m \u001b[0;34m=\u001b[0m \u001b[0mfont\u001b[0m\u001b[0;34m.\u001b[0m\u001b[0mget_width_height\u001b[0m\u001b[0;34m(\u001b[0m\u001b[0;34m)\u001b[0m  \u001b[0;31m# width and height of unrotated string\u001b[0m\u001b[0;34m\u001b[0m\u001b[0;34m\u001b[0m\u001b[0m\n\u001b[1;32m    272\u001b[0m         \u001b[0md\u001b[0m \u001b[0;34m=\u001b[0m \u001b[0mfont\u001b[0m\u001b[0;34m.\u001b[0m\u001b[0mget_descent\u001b[0m\u001b[0;34m(\u001b[0m\u001b[0;34m)\u001b[0m\u001b[0;34m\u001b[0m\u001b[0;34m\u001b[0m\u001b[0m\n",
      "\u001b[0;31mKeyboardInterrupt\u001b[0m: "
     ]
    }
   ],
   "source": [
    "sns.heatmap(final_df[imp_col_list], annot=True, cmap='coolwarm')"
   ]
  },
  {
   "cell_type": "markdown",
   "metadata": {},
   "source": [
    "### 5.4. Metric (MAPE)"
   ]
  },
  {
   "cell_type": "code",
   "execution_count": 131,
   "metadata": {},
   "outputs": [],
   "source": [
    "def MAPE(y_test, y_pred):\n",
    "    return np.mean(np.abs((y_test - y_pred) / y_test)) * 100 "
   ]
  },
  {
   "cell_type": "code",
   "execution_count": 136,
   "metadata": {
    "tags": []
   },
   "outputs": [],
   "source": [
    "tr_rmv_idx = np.where(y_train.values == 0)\n",
    "y_train_d0 = np.delete(y_train.values, tr_rmv_idx)\n",
    "tr_pred_d0 = np.delete(tr_pred, tr_rmv_idx)\n",
    "\n",
    "\n",
    "te_rmv_idx = np.where(y_test.values == 0)\n",
    "y_test_d0 = np.delete(y_test.values, te_rmv_idx)\n",
    "te_pred_d0 = np.delete(te_pred, te_rmv_idx)"
   ]
  },
  {
   "cell_type": "code",
   "execution_count": 137,
   "metadata": {},
   "outputs": [
    {
     "data": {
      "text/plain": [
       "9879.964818545182"
      ]
     },
     "execution_count": 137,
     "metadata": {},
     "output_type": "execute_result"
    }
   ],
   "source": [
    "MAPE(y_train_d0, tr_pred_d0)"
   ]
  },
  {
   "cell_type": "code",
   "execution_count": 138,
   "metadata": {},
   "outputs": [
    {
     "data": {
      "text/plain": [
       "22264.14093596819"
      ]
     },
     "execution_count": 138,
     "metadata": {},
     "output_type": "execute_result"
    }
   ],
   "source": [
    "MAPE(y_test_d0, te_pred_d0)"
   ]
  },
  {
   "cell_type": "markdown",
   "metadata": {},
   "source": [
    "## 6. 시각화"
   ]
  },
  {
   "cell_type": "code",
   "execution_count": 145,
   "metadata": {},
   "outputs": [
    {
     "data": {
      "image/png": "[encoded data removed]",
      "text/plain": [
       "<Figure size 640x480 with 1 Axes>"
      ]
     },
     "metadata": {},
     "output_type": "display_data"
    }
   ],
   "source": [
    "# 그래프 그리기\n",
    "plt.plot(tr_pred, label='Pred')\n",
    "plt.plot(y_train.values, label='Real')\n",
    "\n",
    "plt.legend()\n",
    "plt.show()"
   ]
  },
  {
   "cell_type": "code",
   "execution_count": 144,
   "metadata": {
    "tags": []
   },
   "outputs": [
    {
     "data": {
      "image/png": "[encoded data removed]",
      "text/plain": [
       "<Figure size 640x480 with 1 Axes>"
      ]
     },
     "metadata": {},
     "output_type": "display_data"
    }
   ],
   "source": [
    "# 그래프 그리기\n",
    "plt.plot(te_pred, label='Pred')\n",
    "plt.plot(y_test.values, label='Real')\n",
    "\n",
    "plt.legend()\n",
    "plt.show()"
   ]
  }
 ],
 "metadata": {
  "kernelspec": {
   "display_name": "Python 3 (ipykernel)",
   "language": "python",
   "name": "python3"
  },
  "language_info": {
   "codemirror_mode": {
    "name": "ipython",
    "version": 3
   },
   "file_extension": ".py",
   "mimetype": "text/x-python",
   "name": "python",
   "nbconvert_exporter": "python",
   "pygments_lexer": "ipython3",
   "version": "3.10.10"
  }
 },
 "nbformat": 4,
 "nbformat_minor": 4
}
